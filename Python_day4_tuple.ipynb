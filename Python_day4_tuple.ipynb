{
  "nbformat": 4,
  "nbformat_minor": 0,
  "metadata": {
    "colab": {
      "provenance": [],
      "authorship_tag": "ABX9TyP6we6vaIR1JCNfRKeBPUcw",
      "include_colab_link": true
    },
    "kernelspec": {
      "name": "python3",
      "display_name": "Python 3"
    },
    "language_info": {
      "name": "python"
    }
  },
  "cells": [
    {
      "cell_type": "markdown",
      "metadata": {
        "id": "view-in-github",
        "colab_type": "text"
      },
      "source": [
        "<a href=\"https://colab.research.google.com/github/Div623/Python_t/blob/main/Python_day4_tuple.ipynb\" target=\"_parent\"><img src=\"https://colab.research.google.com/assets/colab-badge.svg\" alt=\"Open In Colab\"/></a>"
      ]
    },
    {
      "cell_type": "code",
      "execution_count": null,
      "metadata": {
        "colab": {
          "base_uri": "https://localhost:8080/"
        },
        "id": "7TE9NljuuRgQ",
        "outputId": "b3e07085-19dd-49de-c747-31f939d4732c"
      },
      "outputs": [
        {
          "output_type": "stream",
          "name": "stdout",
          "text": [
            "Tuple 1: (1, 2, 3, 4, 5)\n",
            "First element of tuple: 1\n",
            "Last element of tuple: 5\n",
            "Tuple 2: ('a', 'b', 'c', 'd', 'e')\n",
            "First element of tuple: a\n",
            "Last element of tuple: e\n",
            "Tuple1 (1, 2, 3, 4, 5)\n",
            "apple\n",
            "banana\n",
            "cherry\n",
            "strawberry\n",
            "raspberry\n",
            "apple\n",
            "banana\n",
            "['cherry', 'strawberry', 'raspberry']\n",
            "Looping through tuple1 using for loop\n",
            "1\n",
            "2\n",
            "3\n",
            "4\n",
            "5\n",
            "6\n",
            "2nd method using for loop\n",
            "1\n",
            "2\n",
            "3\n",
            "4\n",
            "5\n",
            "6\n",
            "\n",
            "Looping through tuple1 using while loop and index numbers\n",
            "1\n",
            "2\n",
            "3\n",
            "4\n",
            "5\n",
            "6\n",
            "(1, 2, 3, 4, 5, 6, 'a', 'b', 'c', 'd', 'e', 6)\n"
          ]
        }
      ],
      "source": [
        "def create_tuple():\n",
        "  tuple1 = (1,2,3,4,5) # indexing is same as list\n",
        "  tuple2 = ('a','b','c','d','e')\n",
        "  tuple3 = ('apple','mango','orange','banana')\n",
        "  return tuple1,tuple2,tuple3\n",
        "\n",
        "def access_tuple_items(tuple1,tuple2):\n",
        "  print(\"Tuple 1:\",tuple1)\n",
        "  print(\"First element of tuple:\",tuple1[0])\n",
        "  print(\"Last element of tuple:\",tuple1[-1])\n",
        "  print(\"Tuple 2:\",tuple2)\n",
        "  print(\"First element of tuple:\",tuple2[0])\n",
        "  print(\"Last element of tuple:\",tuple2[-1])\n",
        "  print(\"Tuple1\",tuple1[0:5])\n",
        "\n",
        "def unpacking_tuple1(tuple3):\n",
        "  fruits=(\"apple\",\"banana\",\"cherry\",\"strawberry\",\"raspberry\")\n",
        "  (green,yellow,red,orange,purple)=fruits\n",
        "  print(green)\n",
        "  print(yellow)\n",
        "  print(red)\n",
        "  print(orange)\n",
        "  print(purple)\n",
        "  #2nd method\n",
        "def unpacking_tuple2(tuple3):\n",
        "  fruits=(\"apple\",\"banana\",\"cherry\",\"strawberry\",\"raspberry\")\n",
        "  (green,yellow,*red)=fruits\n",
        "  print(green)\n",
        "  print(yellow)\n",
        "  print(red)\n",
        "\n",
        "def change_tuples(tuple1,tuple2):\n",
        "  list1= list(tuple1)\n",
        "  list2= list(tuple2)\n",
        "  list1.append(6)\n",
        "  list2.append(6)\n",
        "  tuple1= tuple(list1)\n",
        "  tuple2= tuple(list2)\n",
        "  return tuple1,tuple2\n",
        "\n",
        "def lop_through_tuple(tuple1):\n",
        "  print(\"Looping through tuple1 using for loop\")\n",
        "  for i in tuple1:\n",
        "    print(i)\n",
        "\n",
        "  print(\"2nd method using for loop\")\n",
        "  for i in range(0,len(tuple1)):\n",
        "    print(tuple1[i])\n",
        "\n",
        "  print(\"\\nLooping through tuple1 using while loop and index numbers\")\n",
        "  i=0\n",
        "  while i<len(tuple1):\n",
        "    print(tuple1[i])\n",
        "    i=i+1\n",
        "\n",
        "def join_tuples(tuple1,tuple2):\n",
        "  tuple3= tuple1+tuple2\n",
        "  return tuple3\n",
        "\n",
        "tuple1,tuple2,tuple3 = create_tuple()\n",
        "access_tuple_items(tuple1,tuple2)\n",
        "unpacking_tuple1(tuple3)\n",
        "unpacking_tuple2(tuple3)\n",
        "tuple1,tuple2=change_tuples(tuple1,tuple2)\n",
        "\n",
        "lop_through_tuple(tuple1)\n",
        "\n",
        "print(join_tuples(tuple1,tuple2))\n",
        "\n"
      ]
    },
    {
      "cell_type": "code",
      "source": [
        "string_tup=tuple(\"hello\")\n",
        "print(string_tup)\n",
        "\n",
        "list_tuple=list([\"apple\",\"kiwi\",\"orange\"])\n",
        "print(list_tuple)"
      ],
      "metadata": {
        "colab": {
          "base_uri": "https://localhost:8080/"
        },
        "id": "dNW1WWHD9qDB",
        "outputId": "3aad896e-981b-4310-f23a-48ce38c141ad"
      },
      "execution_count": null,
      "outputs": [
        {
          "output_type": "stream",
          "name": "stdout",
          "text": [
            "('h', 'e', 'l', 'l', 'o')\n",
            "['apple', 'kiwi', 'orange']\n"
          ]
        }
      ]
    },
    {
      "cell_type": "code",
      "source": [
        "# sorted a tuple\n",
        "tuple_int=(5,2,8,1,3)\n",
        "sorted_tup= tuple(sorted(tuple_int)) # here tuple(...) converts list to tuple\n",
        "print(sorted_tup)\n",
        "\n",
        "#sort function changes the origunal order hence it is not possible hence use sorted\n",
        "#sorted works by ceating a list ,then sort then ,converts to tuple"
      ],
      "metadata": {
        "colab": {
          "base_uri": "https://localhost:8080/"
        },
        "id": "qgX2CPUQ9qIV",
        "outputId": "1bfe5f73-45e6-41f0-85a2-28f5549cb94e"
      },
      "execution_count": null,
      "outputs": [
        {
          "output_type": "stream",
          "name": "stdout",
          "text": [
            "(1, 2, 3, 5, 8)\n"
          ]
        }
      ]
    },
    {
      "cell_type": "code",
      "source": [
        "#sort\n",
        "tuple_int=(5,2,8,1,3)\n",
        "sorted_tup= tuple(sort(tuple_int))\n",
        "print(sorted_tup)"
      ],
      "metadata": {
        "colab": {
          "base_uri": "https://localhost:8080/",
          "height": 201
        },
        "id": "ArQR_pzcAFJu",
        "outputId": "a55a810e-dfb4-4b65-b154-793ceda53610"
      },
      "execution_count": null,
      "outputs": [
        {
          "output_type": "error",
          "ename": "NameError",
          "evalue": "name 'sort' is not defined",
          "traceback": [
            "\u001b[0;31m---------------------------------------------------------------------------\u001b[0m",
            "\u001b[0;31mNameError\u001b[0m                                 Traceback (most recent call last)",
            "\u001b[0;32m<ipython-input-16-4388218f941d>\u001b[0m in \u001b[0;36m<cell line: 3>\u001b[0;34m()\u001b[0m\n\u001b[1;32m      1\u001b[0m \u001b[0;31m#sort\u001b[0m\u001b[0;34m\u001b[0m\u001b[0;34m\u001b[0m\u001b[0m\n\u001b[1;32m      2\u001b[0m \u001b[0mtuple_int\u001b[0m\u001b[0;34m=\u001b[0m\u001b[0;34m(\u001b[0m\u001b[0;36m5\u001b[0m\u001b[0;34m,\u001b[0m\u001b[0;36m2\u001b[0m\u001b[0;34m,\u001b[0m\u001b[0;36m8\u001b[0m\u001b[0;34m,\u001b[0m\u001b[0;36m1\u001b[0m\u001b[0;34m,\u001b[0m\u001b[0;36m3\u001b[0m\u001b[0;34m)\u001b[0m\u001b[0;34m\u001b[0m\u001b[0;34m\u001b[0m\u001b[0m\n\u001b[0;32m----> 3\u001b[0;31m \u001b[0msorted_tup\u001b[0m\u001b[0;34m=\u001b[0m \u001b[0mtuple\u001b[0m\u001b[0;34m(\u001b[0m\u001b[0msort\u001b[0m\u001b[0;34m(\u001b[0m\u001b[0mtuple_int\u001b[0m\u001b[0;34m)\u001b[0m\u001b[0;34m)\u001b[0m\u001b[0;34m\u001b[0m\u001b[0;34m\u001b[0m\u001b[0m\n\u001b[0m\u001b[1;32m      4\u001b[0m \u001b[0mprint\u001b[0m\u001b[0;34m(\u001b[0m\u001b[0msorted_tup\u001b[0m\u001b[0;34m)\u001b[0m\u001b[0;34m\u001b[0m\u001b[0;34m\u001b[0m\u001b[0m\n",
            "\u001b[0;31mNameError\u001b[0m: name 'sort' is not defined"
          ]
        }
      ]
    },
    {
      "cell_type": "code",
      "source": [
        "tuples=((1,\"apple\"),(3,\"mango\"),(2,\"orange\"))\n",
        "sort= tuple(sorted(tuples))  #sort=sorted(tuples, key=lambda x:x[1])\n",
        "print(sort)\n"
      ],
      "metadata": {
        "colab": {
          "base_uri": "https://localhost:8080/"
        },
        "id": "UuZIqeU5Ce-c",
        "outputId": "0b952fb2-c7e0-42b0-df58-0a782db93afd"
      },
      "execution_count": null,
      "outputs": [
        {
          "output_type": "stream",
          "name": "stdout",
          "text": [
            "((1, 'apple'), (2, 'orange'), (3, 'mango'))\n"
          ]
        }
      ]
    },
    {
      "cell_type": "code",
      "source": [
        "#tuple comprehension to ccreate a tuple of squares\n",
        "sq_tuple=tuple(x**2 for x in range(1,6))\n",
        "print(sq_tuple)"
      ],
      "metadata": {
        "colab": {
          "base_uri": "https://localhost:8080/"
        },
        "id": "KfxojxlsCfDZ",
        "outputId": "f2bb3602-965b-446b-b888-48eff2161b47"
      },
      "execution_count": null,
      "outputs": [
        {
          "output_type": "stream",
          "name": "stdout",
          "text": [
            "(1, 4, 9, 16, 25)\n"
          ]
        }
      ]
    },
    {
      "cell_type": "code",
      "source": [
        "l1=[1,2,3]\n",
        "l2=[4,5,6]\n",
        "\n",
        "#zip the list into a tupple of pairs\n",
        "zipped_t=zip(l1,l2)\n",
        "print(list(zipped_t))"
      ],
      "metadata": {
        "colab": {
          "base_uri": "https://localhost:8080/"
        },
        "id": "9FwtXM1ZCfIf",
        "outputId": "a32dbfef-e984-4c05-d426-8196fdd010f5"
      },
      "execution_count": null,
      "outputs": [
        {
          "output_type": "stream",
          "name": "stdout",
          "text": [
            "[(1, 4), (2, 5), (3, 6)]\n"
          ]
        }
      ]
    },
    {
      "cell_type": "code",
      "source": [
        "# point named tuple\n",
        "from collections import namedtuple\n",
        "import math\n",
        "#define a namedtuple for coordinates\n",
        "Point=namedtuple('Point',['x','y'])\n",
        "#create two points\n",
        "point1=Point(1,2)\n",
        "point2=Point(4,6)\n",
        "#calculate distance between two point\n",
        "dis=math.sqrt((point1.x-point2.x)**2+(point1.y-point2.y)**2)\n",
        "print(dis)\n"
      ],
      "metadata": {
        "colab": {
          "base_uri": "https://localhost:8080/"
        },
        "id": "5k8ZDfx7CfNe",
        "outputId": "71756b79-3a12-47c8-f058-7660f349bf00"
      },
      "execution_count": null,
      "outputs": [
        {
          "output_type": "stream",
          "name": "stdout",
          "text": [
            "5.0\n"
          ]
        }
      ]
    },
    {
      "cell_type": "code",
      "source": [
        "# filter even numbers\n",
        "''' filter(function,tuple)'''\n",
        "\n",
        "tupl=(1,2,3,4,5)\n",
        "filtered=tuple(filter(lambda x:x%2==0, tupl))\n",
        "print(\"FILTERED TUPLE\",filtered)"
      ],
      "metadata": {
        "colab": {
          "base_uri": "https://localhost:8080/"
        },
        "id": "dOdXYTNRIUL3",
        "outputId": "c4070541-326d-41f5-bb18-e6221871bb58"
      },
      "execution_count": null,
      "outputs": [
        {
          "output_type": "stream",
          "name": "stdout",
          "text": [
            "FILTERED TUPLE (2, 4)\n"
          ]
        }
      ]
    },
    {
      "cell_type": "code",
      "source": [
        "#reduce:reduces the tuple to single value\n",
        "''' reduce(function,tuple)'''\n",
        "\n",
        "from functools import reduce\n",
        "def add(x,y):\n",
        "  return x+y\n",
        "tuple1=(1,2,3,4,5)\n",
        "print(reduce(add,tuple1))"
      ],
      "metadata": {
        "id": "pH3yhgvZIUQy",
        "colab": {
          "base_uri": "https://localhost:8080/"
        },
        "outputId": "a5c9fac4-5b12-45a3-a5f8-75c5799773a7"
      },
      "execution_count": null,
      "outputs": [
        {
          "output_type": "stream",
          "name": "stdout",
          "text": [
            "15\n"
          ]
        }
      ]
    }
  ]
}