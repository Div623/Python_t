{
  "nbformat": 4,
  "nbformat_minor": 0,
  "metadata": {
    "colab": {
      "provenance": [],
      "authorship_tag": "ABX9TyN8325nIu5ACamRel9FpBhq",
      "include_colab_link": true
    },
    "kernelspec": {
      "name": "python3",
      "display_name": "Python 3"
    },
    "language_info": {
      "name": "python"
    }
  },
  "cells": [
    {
      "cell_type": "markdown",
      "metadata": {
        "id": "view-in-github",
        "colab_type": "text"
      },
      "source": [
        "<a href=\"https://colab.research.google.com/github/Div623/Python_t/blob/main/pyton_d3%264_list.ipynb\" target=\"_parent\"><img src=\"https://colab.research.google.com/assets/colab-badge.svg\" alt=\"Open In Colab\"/></a>"
      ]
    },
    {
      "cell_type": "code",
      "execution_count": null,
      "metadata": {
        "colab": {
          "base_uri": "https://localhost:8080/"
        },
        "id": "p-THsMRId-Lg",
        "outputId": "06aef805-a46e-4233-fdb5-785d5a2f51a8"
      },
      "outputs": [
        {
          "output_type": "stream",
          "name": "stdout",
          "text": [
            "['J', 'a', 'c', 'k']\n",
            "['Jack', 'John']\n",
            "apple\n",
            "['apple', 'banana', 'cherry', 'mango']\n",
            "['apple', 'banana', 'cherry', 'mango']\n",
            "['apple', 'banana', 'cherry', 'mango']\n",
            "['apple', 'banana', 'cherry', 'mango']\n",
            "['apple', 'banana', 'cherry']\n",
            "['apple', 'banana']\n",
            "['apple', 'banana', 'cherry']\n",
            "['apple', 'banana', 'cherry', 'mango']\n",
            "yes\n",
            "['apple', 'Kiwi', 'cherry', 'mango']\n",
            "['apple', 'Pineapple', 'dates', 'x', 'mango']\n"
          ]
        }
      ],
      "source": [
        "# list\n",
        "l1=[\"apple\",\"banana\",\"cherry\",\"mango\"]\n",
        "l2=[10,20,30,40]\n",
        "l3=[True,False]\n",
        "l4=list((\"Jack\"))\n",
        "l5=list((\"Jack\",\"John\"))\n",
        "\n",
        "print(l4)\n",
        "print(l5)\n",
        "print(l1[0])   # index 0,1,2,3\n",
        "print(l1[0:4])   # v1:v2 ; v1 included ,v2 not included\n",
        "print(l1[:4])\n",
        "print(l1[0:])\n",
        "print(l1[:])\n",
        "\n",
        "# negative index\n",
        "print(l1[-4:-1])     # index  -4,-3,-2,-1\n",
        "print(l1[-4:-2])\n",
        "print(l1[:-1])\n",
        "print(l1[-4:])\n",
        "\n",
        "if \"apple\" in l1:\n",
        "    print(\"yes\")\n",
        "else:                # (or) if \"apple\" not in l1 :\n",
        "    print(\"no\")\n",
        "#Replace\n",
        "l1[1]=\"Kiwi\"\n",
        "print(l1)\n",
        "l1[1:3]=[\"Pineapple\",\"dates\",\"x\"]\n",
        "print(l1)\n"
      ]
    },
    {
      "cell_type": "code",
      "source": [
        "list=[\"apple\",\"banana\",\"cherry\"]\n",
        "list[1:3]=[\"watermelon\"]\n",
        "print(list)"
      ],
      "metadata": {
        "colab": {
          "base_uri": "https://localhost:8080/"
        },
        "id": "6ko9mke2hlR4",
        "outputId": "9ee29fbf-0d8a-4258-b362-03725f752980"
      },
      "execution_count": null,
      "outputs": [
        {
          "output_type": "stream",
          "name": "stdout",
          "text": [
            "['apple', 'watermelon']\n"
          ]
        }
      ]
    },
    {
      "cell_type": "code",
      "source": [
        "#insert() method\n",
        "list=[\"apple\",\"banana\",\"cherry\"]\n",
        "list.insert(2,\"watermelon\")\n",
        "print(list)\n",
        "#append()\n",
        "list=[\"apple\",\"banana\",\"cherry\"]\n",
        "list.append(\"mango\")\n",
        "print(list)\n",
        "#extend()\n",
        "list1=[\"apple\",\"banana\",\"cherry\"]\n",
        "list2=[\"watermelon\",\"kiwi\"]\n",
        "list1.extend(list2)\n",
        "print(list1)\n"
      ],
      "metadata": {
        "colab": {
          "base_uri": "https://localhost:8080/"
        },
        "id": "zZNT61slhlX9",
        "outputId": "173d7caa-3a87-4447-dc2f-1f06898ee308"
      },
      "execution_count": null,
      "outputs": [
        {
          "output_type": "stream",
          "name": "stdout",
          "text": [
            "['apple', 'banana', 'watermelon', 'cherry']\n",
            "['apple', 'banana', 'cherry', 'mango']\n",
            "['apple', 'banana', 'cherry', 'watermelon', 'kiwi']\n"
          ]
        }
      ]
    },
    {
      "cell_type": "code",
      "source": [
        "#remove() method\n",
        "lis=[\"apple\",\"banana\",\"cherry\",\"mango\",\"banana\"]\n",
        "lis.remove(\"banana\")\n",
        "print(lis)\n",
        "#pop()\n",
        "lis=[\"apple\",\"banana\",\"cherry\"]\n",
        "lis.pop(1)\n",
        "print(lis)\n",
        "#clear()      ; clear the list\n",
        "lis=[\"apple\",\"banana\",\"cherry\"]\n",
        "lis.clear()\n",
        "print(lis)\n",
        "#del  keyword  ;deletes the list itself\n",
        "lis=[\"apple\",\"banana\",\"cherry\"]\n",
        "del lis\n",
        "print(lis)"
      ],
      "metadata": {
        "colab": {
          "base_uri": "https://localhost:8080/",
          "height": 238
        },
        "id": "eQqCMKw6r_wB",
        "outputId": "7ff8d77b-ee21-44c2-9f77-e4e9830cc56d"
      },
      "execution_count": null,
      "outputs": [
        {
          "output_type": "stream",
          "name": "stdout",
          "text": [
            "['apple', 'cherry', 'mango', 'banana']\n",
            "['apple', 'cherry']\n",
            "[]\n"
          ]
        },
        {
          "output_type": "error",
          "ename": "NameError",
          "evalue": "name 'lis' is not defined",
          "traceback": [
            "\u001b[0;31m---------------------------------------------------------------------------\u001b[0m",
            "\u001b[0;31mNameError\u001b[0m                                 Traceback (most recent call last)",
            "\u001b[0;32m<ipython-input-19-b4876ea90722>\u001b[0m in \u001b[0;36m<cell line: 16>\u001b[0;34m()\u001b[0m\n\u001b[1;32m     14\u001b[0m \u001b[0mlis\u001b[0m\u001b[0;34m=\u001b[0m\u001b[0;34m[\u001b[0m\u001b[0;34m\"apple\"\u001b[0m\u001b[0;34m,\u001b[0m\u001b[0;34m\"banana\"\u001b[0m\u001b[0;34m,\u001b[0m\u001b[0;34m\"cherry\"\u001b[0m\u001b[0;34m]\u001b[0m\u001b[0;34m\u001b[0m\u001b[0;34m\u001b[0m\u001b[0m\n\u001b[1;32m     15\u001b[0m \u001b[0;32mdel\u001b[0m \u001b[0mlis\u001b[0m\u001b[0;34m\u001b[0m\u001b[0;34m\u001b[0m\u001b[0m\n\u001b[0;32m---> 16\u001b[0;31m \u001b[0mprint\u001b[0m\u001b[0;34m(\u001b[0m\u001b[0mlis\u001b[0m\u001b[0;34m)\u001b[0m\u001b[0;34m\u001b[0m\u001b[0;34m\u001b[0m\u001b[0m\n\u001b[0m",
            "\u001b[0;31mNameError\u001b[0m: name 'lis' is not defined"
          ]
        }
      ]
    },
    {
      "cell_type": "code",
      "source": [
        "# while loop\n",
        "print(\"while loop\")\n",
        "lis=[\"cat\",\"dog\",\"mouse\"]\n",
        "i=0\n",
        "while i<len(lis):\n",
        "    print(lis[i])\n",
        "    i=i+1\n",
        "# for loop (1)\n",
        "print(\"for loop\")\n",
        "lis=[\"cat\",\"dog\",\"mouse\"]\n",
        "for x in lis:\n",
        "    print(x)\n",
        "# for loop (2)\n",
        "print(\"for loop\")\n",
        "lis=[\"cat\",\"dog\",\"mouse\"]\n",
        "for i in range(len(lis)):\n",
        "    print(lis[i])"
      ],
      "metadata": {
        "colab": {
          "base_uri": "https://localhost:8080/"
        },
        "id": "pn_xnsiXr_yq",
        "outputId": "360eb73d-08a9-43fc-add3-d8aa6e58b372"
      },
      "execution_count": null,
      "outputs": [
        {
          "output_type": "stream",
          "name": "stdout",
          "text": [
            "while loop\n",
            "cat\n",
            "dog\n",
            "mouse\n",
            "for loop\n",
            "cat\n",
            "dog\n",
            "mouse\n",
            "for loop\n",
            "cat\n",
            "dog\n",
            "mouse\n"
          ]
        }
      ]
    },
    {
      "cell_type": "code",
      "source": [
        "# list comprehension\n",
        "#newlist=[expression for item in iterable]\n",
        "tlist=[\"apple\",\"banana\",\"cherry\",\"mango\"]\n",
        "\n",
        "print( x for x in tlist )"
      ],
      "metadata": {
        "colab": {
          "base_uri": "https://localhost:8080/"
        },
        "id": "K0Cd90m9r_1C",
        "outputId": "8abbb42e-ee65-4252-e53f-33a365e33b51"
      },
      "execution_count": null,
      "outputs": [
        {
          "output_type": "stream",
          "name": "stdout",
          "text": [
            "<generator object <genexpr> at 0x7a0665434040>\n"
          ]
        }
      ]
    },
    {
      "cell_type": "code",
      "source": [
        "#fruit names in which 'a' is present\n",
        "\n",
        "fruits=[\"apple\",\"banana\",\"cherry\",\"kiwi\"]\n",
        "newlist=[]\n",
        "for x in fruits:\n",
        "    if \"a\" in x:\n",
        "        newlist.append(x)\n",
        "print(newlist)"
      ],
      "metadata": {
        "colab": {
          "base_uri": "https://localhost:8080/"
        },
        "id": "sVW-9KNVr_3P",
        "outputId": "78cf8cfd-1873-4eb3-f090-f4594e32f44d"
      },
      "execution_count": null,
      "outputs": [
        {
          "output_type": "stream",
          "name": "stdout",
          "text": [
            "['apple', 'banana']\n"
          ]
        }
      ]
    },
    {
      "cell_type": "code",
      "source": [
        "#fruit names in which 'a' is present\n",
        "\n",
        "fruits=[\"apple\",\"banana\",\"cherry\",\"kiwi\"]\n",
        "newlist=[x for x in fruits if \"a\" in x]\n",
        "print(newlist)"
      ],
      "metadata": {
        "colab": {
          "base_uri": "https://localhost:8080/"
        },
        "id": "tgs38jA7sAMT",
        "outputId": "a901183f-a063-4d26-cfb6-57681ab09d82"
      },
      "execution_count": null,
      "outputs": [
        {
          "output_type": "stream",
          "name": "stdout",
          "text": [
            "['apple', 'banana']\n"
          ]
        }
      ]
    },
    {
      "cell_type": "code",
      "source": [
        "# sort the list\n",
        "fruits=[\"apple\",\"orange\",\"mango\",\"kiwi\",\"banana\"]\n",
        "fruits.sort()\n",
        "print(fruits)\n",
        "# reverse the sort  ; sort(descending)\n",
        "fruits=[\"apple\",\"orange\",\"mango\",\"kiwi\",\"banana\"]\n",
        "fruits.sort(reverse=True)\n",
        "print(fruits)\n"
      ],
      "metadata": {
        "colab": {
          "base_uri": "https://localhost:8080/"
        },
        "id": "6RNMI-U1sAUs",
        "outputId": "c30a2fec-7313-463f-85f7-f3e743ec9225"
      },
      "execution_count": null,
      "outputs": [
        {
          "output_type": "stream",
          "name": "stdout",
          "text": [
            "['apple', 'banana', 'kiwi', 'mango', 'orange']\n",
            "['orange', 'mango', 'kiwi', 'banana', 'apple']\n"
          ]
        }
      ]
    },
    {
      "cell_type": "code",
      "source": [
        "# sort the list numerically\n",
        "num=[10,40,7,84,13]\n",
        "num.sort()\n",
        "print(num)\n",
        "# sort(descending)\n",
        "num=[10,40,7,84,13]\n",
        "num.sort(reverse=True)\n",
        "print(num)"
      ],
      "metadata": {
        "colab": {
          "base_uri": "https://localhost:8080/"
        },
        "id": "4nBn2XYNsAXM",
        "outputId": "c602ec4d-da59-4e37-d7c8-9eef2c0785b9"
      },
      "execution_count": null,
      "outputs": [
        {
          "output_type": "stream",
          "name": "stdout",
          "text": [
            "[7, 10, 13, 40, 84]\n",
            "[84, 40, 13, 10, 7]\n"
          ]
        }
      ]
    },
    {
      "cell_type": "code",
      "source": [
        "# sort according to, how close the marks is to 50\n",
        "# customized sort\n",
        "def fun(n):\n",
        "  return abs(n-50)           # actual parameter ;  not formal\n",
        "\n",
        "marks=[100,50,65,82,23]\n",
        "marks.sort(key=fun)\n",
        "print(marks)                               # just passing function name    ;not calling"
      ],
      "metadata": {
        "colab": {
          "base_uri": "https://localhost:8080/"
        },
        "id": "qyU03siyzVyA",
        "outputId": "c6aff2b5-96ba-43d2-c328-40720a956e3e"
      },
      "execution_count": null,
      "outputs": [
        {
          "output_type": "stream",
          "name": "stdout",
          "text": [
            "[50, 65, 23, 82, 100]\n"
          ]
        }
      ]
    },
    {
      "cell_type": "code",
      "source": [
        "# case sensitive\n",
        "fruit=[\"orange\",\"apple\",\"Mango\",\"Banana\"]\n",
        "fruit.sort()\n",
        "print(fruit)\n",
        "# case insensitive\n",
        "fruit=[\"orange\",\"Apple\",\"Mango\",\"Banana\"]\n",
        "fruit.sort(key=str.lower)\n",
        "print(fruit)"
      ],
      "metadata": {
        "colab": {
          "base_uri": "https://localhost:8080/"
        },
        "id": "Ss5zz5O63Q7e",
        "outputId": "ba774050-71fd-4d04-c768-af2840cb7db1"
      },
      "execution_count": null,
      "outputs": [
        {
          "output_type": "stream",
          "name": "stdout",
          "text": [
            "['Banana', 'Mango', 'apple', 'orange']\n",
            "['Apple', 'Banana', 'Mango', 'orange']\n"
          ]
        }
      ]
    },
    {
      "cell_type": "code",
      "source": [
        "# to swap first and last element\n",
        "li=[1,2,3,4,9]        # first element(li[0]) , last element(li[-1])\n",
        "print(li)\n",
        "temp=li[0]\n",
        "li[0]=li[-1]\n",
        "li[-1]=temp\n",
        "print(\"swapped\",li)\n",
        "\n",
        "#or\n",
        "def swap(li):\n",
        "  size=len(li)\n",
        "  temp=li[0]\n",
        "  li[0]=li[size-1]\n",
        "  li[size-1]=temp\n",
        "  return li\n",
        "\n",
        "li=[2,4,7,5,9]\n",
        "print(li)\n",
        "print(\"swapped\",swap(li))"
      ],
      "metadata": {
        "colab": {
          "base_uri": "https://localhost:8080/"
        },
        "id": "w5xtJWsr3RBq",
        "outputId": "0304ef6f-7f30-4ea6-91c9-0178ec98a1d6"
      },
      "execution_count": null,
      "outputs": [
        {
          "output_type": "stream",
          "name": "stdout",
          "text": [
            "[1, 2, 3, 4, 9]\n",
            "swapped [9, 2, 3, 4, 1]\n",
            "[2, 4, 7, 5, 9]\n",
            "swapped [9, 4, 7, 5, 2]\n"
          ]
        }
      ]
    },
    {
      "cell_type": "code",
      "source": [
        "#swap elements at given position\n",
        "def swappositions(li,pos1,pos2):\n",
        "  temp=li[pos1]\n",
        "  li[pos1]=li[pos2]\n",
        "  li[pos2]=temp\n",
        "  return li\n",
        "\n",
        "li=[90,30,20,84,100]\n",
        "#   0   1  2  3  4\n",
        "pos1,pos2=1,3\n",
        "print(swappositions(li,pos1,pos2))"
      ],
      "metadata": {
        "colab": {
          "base_uri": "https://localhost:8080/"
        },
        "id": "i2iIiuGB3RG-",
        "outputId": "3d305436-ee05-46dd-cb6b-4b4f6936c8ed"
      },
      "execution_count": null,
      "outputs": [
        {
          "output_type": "stream",
          "name": "stdout",
          "text": [
            "[90, 84, 20, 30, 100]\n"
          ]
        }
      ]
    },
    {
      "cell_type": "code",
      "source": [
        "# initialze list and find the sum of elements in list\n",
        "\n",
        "li=[10,45,78,23,55]\n",
        "sum=0\n",
        "for i in li:\n",
        "  sum+=i\n",
        "#or out of the loop avg=sum/len(li)\n",
        "print(\"sum of elements in list:\",sum)\n",
        "print(\"average of elements:\",sum/len(li))   #average"
      ],
      "metadata": {
        "colab": {
          "base_uri": "https://localhost:8080/"
        },
        "id": "1ANILbW98ZjZ",
        "outputId": "d09ae1f3-539f-47fc-fc15-79d592934239"
      },
      "execution_count": null,
      "outputs": [
        {
          "output_type": "stream",
          "name": "stdout",
          "text": [
            "sum of elements in list: 211\n",
            "average of elements: 42.2\n"
          ]
        }
      ]
    },
    {
      "cell_type": "code",
      "source": [
        "# to find first and last element in list\n",
        "li=[19,47,8,90]\n",
        "print(\"first element\",li[0])\n",
        "print(\"last element\",li[-1])"
      ],
      "metadata": {
        "colab": {
          "base_uri": "https://localhost:8080/"
        },
        "id": "mX3mNqzw9moq",
        "outputId": "f37ce608-1e49-4d2f-8a4f-ceaae5cdcbea"
      },
      "execution_count": null,
      "outputs": [
        {
          "output_type": "stream",
          "name": "stdout",
          "text": [
            "first element 19\n",
            "last element 90\n"
          ]
        }
      ]
    },
    {
      "cell_type": "code",
      "source": [
        "# find min and max element in an array\n",
        "li=[19,99,16,33,100]\n",
        "print(\"min element\",min(li))\n",
        "print(\"max element\",max(li))\n",
        "# or\n",
        "li.sort()\n",
        "print(\"min element\",li[0])\n",
        "print(\"max element\",li[-1])   # li[-1]=len[li]-1\n",
        "#or\n",
        "for i in li:\n"
      ],
      "metadata": {
        "id": "qCBPtRiX9muX"
      },
      "execution_count": null,
      "outputs": []
    },
    {
      "cell_type": "code",
      "source": [
        "# count the no of occuranes of an item in the list ; using function\n",
        "def countocc(li,x):\n",
        "  count=0\n",
        "  for i in li:\n",
        "    if i==x:\n",
        "      count+=1\n",
        "\n",
        "  return count\n",
        "\n",
        "li=[10,40,50,40,66,38,40,40]\n",
        "x=int(input(\"enter the element to count:\"))\n",
        "print(countocc(li,x))\n"
      ],
      "metadata": {
        "id": "_CjcbRC19mzO",
        "colab": {
          "base_uri": "https://localhost:8080/"
        },
        "outputId": "4c134cb1-838c-4ae1-bd24-a95ab0e300a2"
      },
      "execution_count": null,
      "outputs": [
        {
          "output_type": "stream",
          "name": "stdout",
          "text": [
            "enter the element to count:40\n",
            "4\n"
          ]
        }
      ]
    },
    {
      "cell_type": "code",
      "source": [
        "#to count the unique values in the list\n",
        "def unique(li):\n",
        "  x=set(li)              #set do not allow duplicate  ; only unique values\n",
        "  return len(x)\n",
        "\n",
        "li=[10,40,50,40,66,38,40,40]\n",
        "print(li)\n",
        "print(\"count:\",unique(li))\n",
        "\n",
        "#or\n",
        "li=[2,3,7,5,2,7,3]\n",
        "unique=[]\n",
        "count=0\n",
        "for i in li:\n",
        "  if i not in unique:\n",
        "    unique.append(i)                   ; append only unique values\n",
        "    count=count+1\n",
        "print(unique)\n",
        "print(\"count:\",count)"
      ],
      "metadata": {
        "id": "E49RZojQ8Z62",
        "colab": {
          "base_uri": "https://localhost:8080/"
        },
        "outputId": "891fafe3-3d6c-4b5f-9cb2-b32a5bc4dfda"
      },
      "execution_count": null,
      "outputs": [
        {
          "output_type": "stream",
          "name": "stdout",
          "text": [
            "[10, 40, 50, 40, 66, 38, 40, 40]\n",
            "count: 5\n",
            "[2, 3, 7, 5]\n",
            "count: 4\n"
          ]
        }
      ]
    },
    {
      "cell_type": "code",
      "source": [
        "#find out the duplicate removal list product using list comprehension\n",
        "# take the unique list and find the product of elements\n",
        "def product(un):\n",
        "  product=1\n",
        "  for x in un:\n",
        "    product=product*x\n",
        "  return product\n",
        "\n",
        "li=[10,40,50,40,66,38,40,40]\n",
        "unique=[]\n",
        "[unique.append(i) for i in li if i not in unique]\n",
        "print(unique)\n",
        "print(product(unique))                  # apply product function to unique\n"
      ],
      "metadata": {
        "id": "DxpNhHgc8ae0",
        "colab": {
          "base_uri": "https://localhost:8080/"
        },
        "outputId": "c43954e2-18c1-4f75-f347-0b3f37671e97"
      },
      "execution_count": null,
      "outputs": [
        {
          "output_type": "stream",
          "name": "stdout",
          "text": [
            "[10, 40, 50, 66, 38]\n",
            "50160000\n"
          ]
        }
      ]
    },
    {
      "cell_type": "code",
      "source": [
        "#program to extract elements with the frequency greater than k\n",
        "li=[8,9,7,8,9,8,2,8,2]\n",
        "k=int(input(\"enter the value of k:\"))\n",
        "newlist=[]\n",
        "for i in li:\n",
        "  freq=li.count(i)\n",
        "  if freq>k and i not in newlist:\n",
        "    newlist.append(i)\n",
        "print(newlist)\n",
        "#ans 8 ;   only is repeated more than 2 times i.efreq=4"
      ],
      "metadata": {
        "colab": {
          "base_uri": "https://localhost:8080/"
        },
        "id": "umwGtUv3RbWK",
        "outputId": "ecfbb331-72ed-4775-cb7a-88ad25ae0b13"
      },
      "execution_count": null,
      "outputs": [
        {
          "output_type": "stream",
          "name": "stdout",
          "text": [
            "enter the value of k:2\n",
            "[8]\n"
          ]
        }
      ]
    },
    {
      "cell_type": "code",
      "source": [
        "#program to test if the list contains elements in the range\n",
        "\n",
        "li=[1,2,3,4,5,6,7,8]\n",
        "i,j=1,6\n",
        "res=True             # here given i,j are numbers not index\n",
        "for x in li:\n",
        "  if x<i or x>j :\n",
        "    res=False\n",
        "    break\n",
        "print(\"Does list contain all the elements in range:\"+str(res))\n"
      ],
      "metadata": {
        "colab": {
          "base_uri": "https://localhost:8080/"
        },
        "id": "Fc8ob3DkRlkn",
        "outputId": "90d63da6-fdc9-442e-a24a-ecde6b03a9f2"
      },
      "execution_count": null,
      "outputs": [
        {
          "output_type": "stream",
          "name": "stdout",
          "text": [
            "Does list contain all the elements in range:False\n"
          ]
        }
      ]
    },
    {
      "cell_type": "code",
      "source": [
        "#program to demonstrate list intersection and union\n",
        "li1=[1,2,3,4,7,5]\n",
        "li2=[1,6,3,8,5,9]\n",
        "li3=set(li1) & set(li2)\n",
        "print(\"intersection:\",li3)\n",
        "li4=set(li1) | set(li2)\n",
        "print(\"union:\",li4)"
      ],
      "metadata": {
        "colab": {
          "base_uri": "https://localhost:8080/"
        },
        "id": "BBFYNcOZRbbM",
        "outputId": "5f80f12a-dadb-4316-a983-8bbf20f4446a"
      },
      "execution_count": null,
      "outputs": [
        {
          "output_type": "stream",
          "name": "stdout",
          "text": [
            "intersection: {1, 3, 5}\n",
            "union: {1, 2, 3, 4, 5, 6, 7, 8, 9}\n"
          ]
        }
      ]
    },
    {
      "cell_type": "code",
      "source": [
        "# program to merge 2 sorted list into a single sorted list\n",
        "'''li1=[11,43,53,89,96]\n",
        "li2=[56,89,94,102,178]\n",
        "li3=li1+li2    #or li1.extend(li2)\n",
        "li3=list(li3)\n",
        "li3.sort()   # dont write print to method() ou wont get output\n",
        "print(li3)'''\n",
        "#or\n",
        "\n",
        "def merge(li1,li2): #l1 and li1 are same\n",
        "  m=[]\n",
        "  i=j=0\n",
        "  while(i<len(li1)) and (j<len(li2)):\n",
        "    if(li1[i]<li2[j]):\n",
        "       m.append(li1[i])\n",
        "       i=i+1\n",
        "    else:\n",
        "      m.append(li2[j])\n",
        "      j=j+1\n",
        "  m.extend(li1[i:])\n",
        "  m.extend(li2[j:])\n",
        "  return m\n",
        "\n",
        "l1=[11,23,56,87,91]       # l1 and l2 two sorted ist\n",
        "l2=[2,5,78,98,125]\n",
        "print(merge(l1,l2))\n"
      ],
      "metadata": {
        "colab": {
          "base_uri": "https://localhost:8080/"
        },
        "id": "1Q9enRvORbfx",
        "outputId": "e4ccf5e8-f10d-487b-8f3a-4c126b8505b0"
      },
      "execution_count": null,
      "outputs": [
        {
          "output_type": "stream",
          "name": "stdout",
          "text": [
            "[2, 5, 11, 23, 56, 78, 87, 91, 98, 125]\n"
          ]
        }
      ]
    },
    {
      "cell_type": "code",
      "source": [
        "# find the largest subarray sum of the given list\n",
        "def largest_sum(lst):\n",
        "  max_sum = curr_sum = lst[0]      #first element of li\n",
        "  for i in lst[1:]:            #exclude first element ; it is already conidere as max\n",
        "    curr_sum = max(i,curr_sum+i)\n",
        "    max_sum = max(max_sum,curr_sum)\n",
        "  return max_sum\n",
        "\n",
        "li=[-2,1,-3,4,-1,2,1,-5,4]\n",
        "print(largest_sum(li))"
      ],
      "metadata": {
        "id": "-a0RhOa-RboD",
        "colab": {
          "base_uri": "https://localhost:8080/"
        },
        "outputId": "fe6cf466-d5d9-44a3-b3ba-5dd766df9c71"
      },
      "execution_count": null,
      "outputs": [
        {
          "output_type": "stream",
          "name": "stdout",
          "text": [
            "6\n"
          ]
        }
      ]
    },
    {
      "cell_type": "code",
      "source": [
        "# program to partition a list around a given value such that all elements less than the given\n",
        "# value come before it and all elements greater than the given value come after it\n",
        "\n",
        "def prtition_lis(lst,pivot):\n",
        "  less_than=[x for x in lst if x < pivot] #list comprehension\n",
        "  equal_to=[x for x in lst if x == pivot]\n",
        "  greater_than=[x for x in lst if x >  pivot]\n",
        "  return less_than+equal_to+greater_than\n",
        "\n",
        "my_list=[3,1,4,1,5,9,2,6,5]\n",
        "pivot=4\n",
        "print(prtition_lis(my_list,pivot))\n",
        "\n",
        "#this program can also be done using if statement and append"
      ],
      "metadata": {
        "id": "4TMzox2SR9Hz",
        "colab": {
          "base_uri": "https://localhost:8080/"
        },
        "outputId": "3331067b-efc7-4a70-9c00-68da5072530a"
      },
      "execution_count": null,
      "outputs": [
        {
          "output_type": "stream",
          "name": "stdout",
          "text": [
            "[3, 1, 1, 2, 4, 5, 9, 6, 5]\n"
          ]
        }
      ]
    },
    {
      "cell_type": "code",
      "source": [
        "''' INTERVIEW  '''\n",
        "#find a peak elements in the list of integers ; peak element is a element that is greater than or equal to all its  neighbours\n",
        "def peak(lst):\n",
        "  if not lst: # if no elements in lst\n",
        "    return None\n",
        "  l,r=0,len(lst)-1  # len(lst-1 = lst(-1))\n",
        "  while l<r:     # BASED ON INDEX\n",
        "    mid=(l+(r-l)//2)\n",
        "    if lst[mid]<lst[mid+1]:\n",
        "      l= mid+1\n",
        "    else:\n",
        "      r=mid         # when left and rigt interviens return l\n",
        "  return lst[l]\n",
        "\n",
        "li=[1,1,2,3,5,6,14]\n",
        "print(peak(li))"
      ],
      "metadata": {
        "id": "_lPHijH3R9Oi",
        "colab": {
          "base_uri": "https://localhost:8080/"
        },
        "outputId": "aacdb29d-a956-45c6-fcbc-82c15cc19373"
      },
      "execution_count": null,
      "outputs": [
        {
          "output_type": "stream",
          "name": "stdout",
          "text": [
            "14\n"
          ]
        }
      ]
    }
  ]
}