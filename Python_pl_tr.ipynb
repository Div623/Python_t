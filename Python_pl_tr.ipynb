{
  "nbformat": 4,
  "nbformat_minor": 0,
  "metadata": {
    "colab": {
      "provenance": [],
      "include_colab_link": true
    },
    "kernelspec": {
      "name": "python3",
      "display_name": "Python 3"
    },
    "language_info": {
      "name": "python"
    }
  },
  "cells": [
    {
      "cell_type": "markdown",
      "metadata": {
        "id": "view-in-github",
        "colab_type": "text"
      },
      "source": [
        "<a href=\"https://colab.research.google.com/github/Div623/Python_t/blob/main/Python_pl_tr.ipynb\" target=\"_parent\"><img src=\"https://colab.research.google.com/assets/colab-badge.svg\" alt=\"Open In Colab\"/></a>"
      ]
    },
    {
      "cell_type": "code",
      "execution_count": null,
      "metadata": {
        "id": "GErllGi17d7E",
        "colab": {
          "base_uri": "https://localhost:8080/"
        },
        "outputId": "6cc65a72-3555-49b3-f8da-16cd653b1357"
      },
      "outputs": [
        {
          "output_type": "stream",
          "name": "stdout",
          "text": [
            "Enter a name:Divya\n",
            "Enter year of birth:2003\n",
            "The person Divya born in 2003 is 21\n"
          ]
        }
      ],
      "source": [
        "#write a python code to read the name and year of birth of a person and calculate his age in 2024\n",
        "\n",
        "name=input(\"Enter a name:\")\n",
        "year=int(input(\"Enter year of birth:\"))\n",
        "age=2024-year\n",
        "print(\"The person\",name,\"born in\",year,\"is\",age)\n"
      ]
    },
    {
      "cell_type": "code",
      "source": [
        "# Mark of a student\n",
        "\n",
        "Mark=int(input(\"Enter a mark:\"))\n",
        "if(80<Mark<=100):\n",
        "  print(\"distinction\")\n",
        "elif(60<=Mark<=80):\n",
        "  print(\"pass\")\n",
        "elif(Mark<=60):\n",
        "  print(\"fail\")\n",
        "elif(Mark>100):\n",
        "  print(\"invalid Mark\")"
      ],
      "metadata": {
        "colab": {
          "base_uri": "https://localhost:8080/"
        },
        "id": "ukaIhhAu5Zn_",
        "outputId": "7c1b92cf-565c-4ba2-f9df-ea32764191f6"
      },
      "execution_count": null,
      "outputs": [
        {
          "output_type": "stream",
          "name": "stdout",
          "text": [
            "Enter a mark:60\n",
            "pass\n"
          ]
        }
      ]
    },
    {
      "cell_type": "code",
      "source": [
        "#Prime number or not\n",
        "n=int(input(\"Enter a number:\"))\n",
        "\n",
        "if n ==1 or 0:\n",
        "  print(n, \"is not a prime number\")\n",
        "if n==2:\n",
        "  print(n,\"is a prime\")\n",
        "\n",
        "for i in range (2,n):\n",
        "  if (n%i==0):\n",
        "    print(n,\"number is not a prime\")\n",
        "    break\n",
        "  else:\n",
        "    print(n,\"number is prime\")\n",
        "    break"
      ],
      "metadata": {
        "colab": {
          "base_uri": "https://localhost:8080/"
        },
        "id": "FtfPrTkm5Zud",
        "outputId": "394f8d2c-f770-4b27-b8d7-e696f58d6ea2"
      },
      "execution_count": null,
      "outputs": [
        {
          "output_type": "stream",
          "name": "stdout",
          "text": [
            "Enter a number:4\n",
            "4 number is not a prime\n"
          ]
        }
      ]
    },
    {
      "cell_type": "code",
      "source": [
        "# Prime number in range\n",
        "start=int(input(\"Enter starting number:\"))\n",
        "end=int(input(\"Enter ending number:\"))\n",
        "\n",
        "for num in range(start,end+1): #here can be anything (j,k,etc..)\n",
        "  for i in range(2,num):\n",
        "    if num%i ==0:\n",
        "      break\n",
        "    else:\n",
        "      print(num)\n",
        "      break"
      ],
      "metadata": {
        "colab": {
          "base_uri": "https://localhost:8080/"
        },
        "id": "1GHcP2nZCPxA",
        "outputId": "0ef9be8e-5e6a-4eab-cfcd-57e146b8ec74"
      },
      "execution_count": null,
      "outputs": [
        {
          "output_type": "stream",
          "name": "stdout",
          "text": [
            "Enter starting number:1\n",
            "Enter ending number:10\n",
            "3\n",
            "5\n",
            "7\n",
            "9\n"
          ]
        }
      ]
    },
    {
      "cell_type": "code",
      "source": [
        "#count Prime number in range\n",
        "start=int(input(\"Enter starting number:\"))\n",
        "end=int(input(\"Enter ending number:\"))\n",
        "count=0\n",
        "for num in range(start,end+1): #here can be anything (j,k,etc..)\n",
        "  for i in range(2,num):\n",
        "    if num%i ==0:\n",
        "      break\n",
        "    else:\n",
        "      print(num)\n",
        "      count+=1\n",
        "      break\n",
        "print(\"prime number in given range :\",count)\n",
        "\n"
      ],
      "metadata": {
        "colab": {
          "base_uri": "https://localhost:8080/"
        },
        "id": "FDZA1UrE7xlY",
        "outputId": "ea3d465c-812e-4252-8a5e-c5208c33d453"
      },
      "execution_count": null,
      "outputs": [
        {
          "output_type": "stream",
          "name": "stdout",
          "text": [
            "Enter starting number:1\n",
            "Enter ending number:10\n",
            "3\n",
            "5\n",
            "7\n",
            "9\n",
            "prime number in given range : 4\n"
          ]
        }
      ]
    },
    {
      "cell_type": "code",
      "source": [
        "#strong number 145 = 1!+4!+5! =145\n",
        "\n",
        "num=int(input(\"Enter a number:\"))\n",
        "temp=num   #\n",
        "sum=0      #\n",
        "while(num):\n",
        "  i=1               #\n",
        "  f=1\n",
        "  r = num % 10\n",
        "  while(i<=r):     #\n",
        "    f=f*i\n",
        "    i+=1\n",
        "  sum = sum + f\n",
        "  num = num // 10\n",
        "if(sum==temp):\n",
        "  print(temp,\"is a strong number\")\n",
        "else:\n",
        "  print(temp,\"is not a strong number\")"
      ],
      "metadata": {
        "colab": {
          "base_uri": "https://localhost:8080/"
        },
        "id": "FIoqLFjD7xu2",
        "outputId": "d07e7cda-1410-49d2-8361-ae270c4d5778"
      },
      "execution_count": null,
      "outputs": [
        {
          "output_type": "stream",
          "name": "stdout",
          "text": [
            "Enter a number:145\n",
            "145 is a strong number\n"
          ]
        }
      ]
    },
    {
      "cell_type": "code",
      "source": [
        "#Arm strong number        153 ,len(153)=3 ;      153 = 1^3 + 5^3 + 3^3= 153\n",
        "\n",
        "num=int(input(\"Enter a number:\"))\n",
        "temp=num\n",
        "sum=0\n",
        "ord=len(str(num))    # only len of string\n",
        "while(num):\n",
        "  r=num%10\n",
        "  d=r**ord   # (**)means power of\n",
        "  sum=sum+d\n",
        "  num=num//10\n",
        "if(sum==temp):\n",
        "  print(temp,\"is a arm strong number\")\n",
        "else:\n",
        "  print(temp,\"is not a arm strong number\")\n"
      ],
      "metadata": {
        "colab": {
          "base_uri": "https://localhost:8080/"
        },
        "id": "AN1sdowf7xzI",
        "outputId": "1164a83c-bd9e-4016-901e-26de0e80f788"
      },
      "execution_count": null,
      "outputs": [
        {
          "output_type": "stream",
          "name": "stdout",
          "text": [
            "Enter a number:153\n",
            "153 is a arm strong number\n"
          ]
        }
      ]
    },
    {
      "cell_type": "code",
      "source": [
        "# Neon number   9 = 9^2= 81 = 8 + 1 =9\n",
        "\n",
        "num=int(input(\"Enter a number:\"))\n",
        "temp=num\n",
        "sum=0\n",
        "d=num*num       # square\n",
        "while(d):              # pass  'd'\n",
        "  r = d%10\n",
        "  sum=sum+r\n",
        "  d = d//10  # d (squared) not num\n",
        "if(sum==num):\n",
        "  print(num,\"is a  neon number\")\n",
        "else:\n",
        "  print(num,\"is not a  neon number\")"
      ],
      "metadata": {
        "colab": {
          "base_uri": "https://localhost:8080/"
        },
        "id": "bVqY_XI_IuVu",
        "outputId": "b34afbf9-0ebe-4210-ea80-eaba9897af41"
      },
      "execution_count": null,
      "outputs": [
        {
          "output_type": "stream",
          "name": "stdout",
          "text": [
            "Enter a number:9\n",
            "9 is a  neon number\n"
          ]
        }
      ]
    },
    {
      "cell_type": "code",
      "source": [
        "#spy number  1124 ; 1+1+2+4 = 1*1*2*4\n",
        "\n",
        "num=int(input(\"Enter a number:\"))\n",
        "temp=num\n",
        "sum=0\n",
        "product=1\n",
        "while(num):\n",
        "  r=num%10\n",
        "  sum= sum + r          #  ' + '\n",
        "  product= product * r           #  ' * '\n",
        "  num=num//10\n",
        "if(sum==product):\n",
        "  print(temp,\"is a spy number\")\n",
        "else:\n",
        "  print(temp,\"is not a spy number\")"
      ],
      "metadata": {
        "colab": {
          "base_uri": "https://localhost:8080/"
        },
        "id": "04817OSAIubY",
        "outputId": "c4dba032-bce8-4bf2-adbb-7fb4aa8db414"
      },
      "execution_count": null,
      "outputs": [
        {
          "output_type": "stream",
          "name": "stdout",
          "text": [
            "Enter a number:1124\n",
            "1124 is a spy number\n"
          ]
        }
      ]
    },
    {
      "cell_type": "code",
      "source": [
        "'''Happy number\n",
        "                      19 : 1^2 + 9^2 = 82 != 1\n",
        "                           8^2 + 2^2 = 68 != 1\n",
        "                           6^2 + 8^2 = 100 != 1\n",
        "                           1^2 + 0^2 + 0^2 = 1          ; stop   '''\n",
        "\n",
        "\n",
        "def ishappy(num):\n",
        "  sum=0\n",
        "  while(num!=0):\n",
        "    r=num%10\n",
        "    sum=sum+r**2\n",
        "    num=num//10\n",
        "  return sum\n",
        "\n",
        "num=int(input(\"Enter a number:\"))\n",
        "temp=num\n",
        "\n",
        "# if(num==1):\n",
        "#     print(\"True\")\n",
        "# elif(num==4):\n",
        "#     print(\"False\")\n",
        "\n",
        "while(num!=1 or 4):\n",
        "  num=ishappy(num)\n",
        "  if(num==1):\n",
        "    print(True)\n",
        "    break\n",
        "  elif(num==4):\n",
        "    print(False)\n",
        "    break\n",
        "\n"
      ],
      "metadata": {
        "id": "JhBZgLc87iOQ",
        "colab": {
          "base_uri": "https://localhost:8080/"
        },
        "outputId": "ffdd57b9-fb6d-4abb-f697-f0a454299617"
      },
      "execution_count": null,
      "outputs": [
        {
          "output_type": "stream",
          "name": "stdout",
          "text": [
            "Enter a number:82\n",
            "True\n"
          ]
        }
      ]
    },
    {
      "cell_type": "code",
      "source": [
        "# factorial of a number\n",
        "\n",
        "n=(int(input(\"Enter a number:\")))\n",
        "factorial=1\n",
        "if(n<0):\n",
        "  print(\"factorial does not exist for negative numbers\")\n",
        "elif(n==0):\n",
        "  print(\"the factorial of 0 is 1\")\n",
        "\n",
        "else:\n",
        "  for i in range(1,n+1):\n",
        "    factorial=factorial*i\n",
        "  print(\"the factorial of \",n,\"is\",factorial)"
      ],
      "metadata": {
        "colab": {
          "base_uri": "https://localhost:8080/"
        },
        "id": "NyjBvReVHdQN",
        "outputId": "9f39ff87-a17c-40db-ac06-542f26be68d0"
      },
      "execution_count": null,
      "outputs": [
        {
          "output_type": "stream",
          "name": "stdout",
          "text": [
            "Enter a number:5\n",
            "the factorial of  5 is 120\n"
          ]
        }
      ]
    },
    {
      "cell_type": "code",
      "source": [
        "# palindrome of a number\n",
        "\n",
        "num = int(input(\"enter a number\"))\n",
        "\n",
        "def Palindrome(num):\n",
        "  num = str(num)\n",
        "  if num ==num[::-1]:\n",
        "    print(\"is a palindrome\")\n",
        "  else :\n",
        "    print(\"is not a palindrome\")\n",
        "\n",
        "Palindrome(num)               # call"
      ],
      "metadata": {
        "colab": {
          "base_uri": "https://localhost:8080/"
        },
        "id": "9iOqV0dHQmvT",
        "outputId": "1232a99a-bb63-43b5-feb3-9de125a90fd1"
      },
      "execution_count": null,
      "outputs": [
        {
          "output_type": "stream",
          "name": "stdout",
          "text": [
            "enter a number121\n",
            "is a palindrome\n"
          ]
        }
      ]
    },
    {
      "cell_type": "code",
      "source": [
        "# multiplication table\n",
        "\n",
        "num = int(input(\"enter a number\"))\n",
        "\n",
        "for i in range (1,11):\n",
        "  print(num,'*',i,'=',num*i)"
      ],
      "metadata": {
        "colab": {
          "base_uri": "https://localhost:8080/"
        },
        "id": "nYo2aFptR4_z",
        "outputId": "e630f101-1c6c-4658-913f-d781acab1789"
      },
      "execution_count": null,
      "outputs": [
        {
          "output_type": "stream",
          "name": "stdout",
          "text": [
            "enter a number2\n",
            "2 * 1 = 2\n",
            "2 * 2 = 4\n",
            "2 * 3 = 6\n",
            "2 * 4 = 8\n",
            "2 * 5 = 10\n",
            "2 * 6 = 12\n",
            "2 * 7 = 14\n",
            "2 * 8 = 16\n",
            "2 * 9 = 18\n",
            "2 * 10 = 20\n"
          ]
        }
      ]
    },
    {
      "cell_type": "code",
      "source": [
        "# fibonacci        ; next no is equal to the sum of previous two number\n",
        "\n",
        "num = int(input(\"enter a number:\"))\n",
        "fib1 =0        #\n",
        "fib2 =1         #\n",
        "print(fib1,fib2,end=\" \")\n",
        "for num in range (2,num):\n",
        "  fib3 = fib1 + fib2           #\n",
        "  print(fib3 ,end=\" \")\n",
        "  fib1 =fib2             #\n",
        "  fib2 =fib3\n"
      ],
      "metadata": {
        "colab": {
          "base_uri": "https://localhost:8080/"
        },
        "id": "NFO3tqvWR5H9",
        "outputId": "15f9794c-2ac9-41bf-a14e-a8a34eb4eb40"
      },
      "execution_count": null,
      "outputs": [
        {
          "output_type": "stream",
          "name": "stdout",
          "text": [
            "enter a number:9\n",
            "0 1 1 2 3 5 8 13 21 "
          ]
        }
      ]
    },
    {
      "cell_type": "code",
      "source": [
        "#read a string from user , implement logic to remove characters which are odd numbered index\n",
        "\n",
        "string=input(\"enter a srting:\")\n",
        "a=\" \"\n",
        "for i in range(0,len(string)):\n",
        "  if(i%2!=0):\n",
        "    a=a+string[i]\n",
        "print(a)"
      ],
      "metadata": {
        "colab": {
          "base_uri": "https://localhost:8080/"
        },
        "id": "mXNmZEvhHdVS",
        "outputId": "de177062-922b-4467-ba6f-0093df4f80e5"
      },
      "execution_count": null,
      "outputs": [
        {
          "output_type": "stream",
          "name": "stdout",
          "text": [
            "enter a srting:nmam\n",
            " mm\n"
          ]
        }
      ]
    },
    {
      "cell_type": "code",
      "source": [
        "# convert neagative number to positive\n",
        "\n",
        "n=int(input(\"enter a number\"))\n",
        "\n",
        "if (n<0):\n",
        "  print(abs(n))\n",
        "else:\n",
        "  print(n)"
      ],
      "metadata": {
        "id": "DZmtrEuVHdZ_",
        "colab": {
          "base_uri": "https://localhost:8080/"
        },
        "outputId": "618485e7-c27d-448b-ed6c-163c504f2966"
      },
      "execution_count": null,
      "outputs": [
        {
          "output_type": "stream",
          "name": "stdout",
          "text": [
            "enter a number-2\n",
            "2\n"
          ]
        }
      ]
    },
    {
      "cell_type": "code",
      "source": [
        "#pattern\n",
        "'''\n",
        "* * * * *\n",
        "* * * * *\n",
        "* * * * *\n",
        "* * * * *\n",
        "* * * * *\n",
        "'''\n",
        "n=int(input(\"enter the number of rows:\"))#here same no of rows and column\n",
        "for i in range(0,n):\n",
        "  for j in range(0,n):\n",
        "\n",
        "      print(\"*\",end=\" \")\n",
        "\n",
        "  print()"
      ],
      "metadata": {
        "colab": {
          "base_uri": "https://localhost:8080/"
        },
        "id": "0Yy7HivjELAW",
        "outputId": "a9c9be74-dcee-40b1-d533-a87355b54d5f"
      },
      "execution_count": null,
      "outputs": [
        {
          "output_type": "stream",
          "name": "stdout",
          "text": [
            "enter the number of rows:5\n",
            "* * * * * \n",
            "* * * * * \n",
            "* * * * * \n",
            "* * * * * \n",
            "* * * * * \n"
          ]
        }
      ]
    },
    {
      "cell_type": "code",
      "source": [
        "#pattern\n",
        "'''\n",
        "A A A A A\n",
        "A A A A A\n",
        "A A A A A\n",
        "A A A A A\n",
        "A A A A A\n",
        "'''\n",
        "n=int(input(\"enter the number of rows:\"))#here same no of rows and column\n",
        "for i in range(0,n):\n",
        "  for j in range(0,n):\n",
        "\n",
        "      print(\"A\",end=\" \")\n",
        "\n",
        "  print()"
      ],
      "metadata": {
        "colab": {
          "base_uri": "https://localhost:8080/"
        },
        "id": "-GiEcJTLELFD",
        "outputId": "9b0db912-283e-4eeb-c91a-ed4c09842809"
      },
      "execution_count": null,
      "outputs": [
        {
          "output_type": "stream",
          "name": "stdout",
          "text": [
            "enter the number of rows:5\n",
            "A A A A A \n",
            "A A A A A \n",
            "A A A A A \n",
            "A A A A A \n",
            "A A A A A \n"
          ]
        }
      ]
    },
    {
      "cell_type": "code",
      "source": [
        "#pattern\n",
        "'''\n",
        "*\n",
        "* *\n",
        "* * *\n",
        "* * * *\n",
        "* * * * *\n",
        "'''\n",
        "\n",
        "n=int(input(\"enter the number of rows:\"))#here same no of rows and column\n",
        "for i in range(0,n):\n",
        "  for j in range(0,n):\n",
        "    if(j<=i):\n",
        "      print(\"*\",end=\" \")\n",
        "\n",
        "  print()"
      ],
      "metadata": {
        "id": "Q8AIfp1PELJN",
        "colab": {
          "base_uri": "https://localhost:8080/"
        },
        "outputId": "19510b61-6e4e-405b-f3d1-3266602a7b2f"
      },
      "execution_count": null,
      "outputs": [
        {
          "output_type": "stream",
          "name": "stdout",
          "text": [
            "enter the number of rows:5\n",
            "* \n",
            "* * \n",
            "* * * \n",
            "* * * * \n",
            "* * * * * \n"
          ]
        }
      ]
    },
    {
      "cell_type": "code",
      "source": [
        "#pattern\n",
        "'''\n",
        "        *\n",
        "      * *\n",
        "    * * *\n",
        "  * * * *\n",
        "* * * * *\n",
        "'''\n",
        "n=int(input(\"enter the number of rows:\"))#here same no of rows and column\n",
        "for i in range(0,n):\n",
        "  for j in range(0,n):\n",
        "      if(i+j>=n-1):\n",
        "        print(\"*\",end=\" \")\n",
        "      else:\n",
        "        print(\" \",end=\" \")\n",
        "  print()"
      ],
      "metadata": {
        "id": "J2WiESisELO6",
        "colab": {
          "base_uri": "https://localhost:8080/"
        },
        "outputId": "38997848-16b9-49f5-9423-10530c02b162"
      },
      "execution_count": null,
      "outputs": [
        {
          "output_type": "stream",
          "name": "stdout",
          "text": [
            "enter the number of rows:5\n",
            "        * \n",
            "      * * \n",
            "    * * * \n",
            "  * * * * \n",
            "* * * * * \n"
          ]
        }
      ]
    },
    {
      "cell_type": "code",
      "source": [
        "#pattern\n",
        "'''\n",
        "* * * * *\n",
        "  * * * *\n",
        "    * * *\n",
        "      * *\n",
        "        *\n",
        "'''\n",
        "n=int(input(\"enter the number of rows:\"))#here same no of rows and column\n",
        "for i in range(0,n):\n",
        "  for j in range(0,n):\n",
        "      if(j>=i):\n",
        "        print(\"*\",end=\" \")\n",
        "      else:\n",
        "        print(\" \",end=\" \")\n",
        "  print()"
      ],
      "metadata": {
        "colab": {
          "base_uri": "https://localhost:8080/"
        },
        "id": "jip-0vnVvVPu",
        "outputId": "45b48efc-71df-47e7-d526-a4b36c594010"
      },
      "execution_count": null,
      "outputs": [
        {
          "output_type": "stream",
          "name": "stdout",
          "text": [
            "enter the number of rows:5\n",
            "* * * * * \n",
            "  * * * * \n",
            "    * * * \n",
            "      * * \n",
            "        * \n"
          ]
        }
      ]
    },
    {
      "cell_type": "code",
      "source": [
        "#pattern\n",
        "'''\n",
        "* * * * *\n",
        "* * * *\n",
        "* * *\n",
        "* *\n",
        "*\n",
        "'''\n",
        "\n",
        "n=int(input(\"enter the number of rows:\"))#here same no of rows and column\n",
        "for i in range(0,n):\n",
        "  for j in range(0,n):\n",
        "      if(i+j<=n-1):\n",
        "        print(\"*\",end=\" \")\n",
        "\n",
        "  print()"
      ],
      "metadata": {
        "colab": {
          "base_uri": "https://localhost:8080/"
        },
        "id": "HhZIcKR4vVVQ",
        "outputId": "61d74dca-48b9-4a9b-8014-ef758ced39fb"
      },
      "execution_count": null,
      "outputs": [
        {
          "output_type": "stream",
          "name": "stdout",
          "text": [
            "enter the number of rows:5\n",
            "* * * * * \n",
            "* * * * \n",
            "* * * \n",
            "* * \n",
            "* \n"
          ]
        }
      ]
    },
    {
      "cell_type": "code",
      "source": [
        "#pattern\n",
        "''' 1\n",
        "    2 2\n",
        "    3 3 3\n",
        "    4 4 4 4\n",
        "    5 5 5 5 5\n",
        "'''\n",
        "\n",
        "n=int(input(\"enter the number of rows:\"))#here same no of rows and column\n",
        "for i in range(1,n+1):\n",
        "  for j in range(1,n+1):\n",
        "    if (j<=i):\n",
        "      print(i,end=\" \")\n",
        "  print()"
      ],
      "metadata": {
        "colab": {
          "base_uri": "https://localhost:8080/"
        },
        "id": "z16SW8VJ-kx1",
        "outputId": "d6d230a1-b3a8-4fc9-c5cb-6fdc12abb1b9"
      },
      "execution_count": null,
      "outputs": [
        {
          "output_type": "stream",
          "name": "stdout",
          "text": [
            "enter the number of rows:5\n",
            "1 \n",
            "2 2 \n",
            "3 3 3 \n",
            "4 4 4 4 \n",
            "5 5 5 5 5 \n"
          ]
        }
      ]
    },
    {
      "cell_type": "code",
      "source": [
        "#pattern\n",
        "'''\n",
        "* * * * *\n",
        "*       *\n",
        "*       *\n",
        "*       *\n",
        "* * * * *\n",
        "'''\n",
        "n=int(input(\"enter the number of rows:\"))#here same no of rows and column\n",
        "for i in range(0,n):\n",
        "  for j in range(0,n):\n",
        "    if (i==0 or i==n-1 or j==0 or j==n-1):\n",
        "      print(\"*\",end=\" \")\n",
        "    else:\n",
        "      print(\" \",end=\" \")\n",
        "  print()\n"
      ],
      "metadata": {
        "colab": {
          "base_uri": "https://localhost:8080/"
        },
        "id": "k6TZe7OjAkD5",
        "outputId": "b72e9722-b835-473a-e27b-67f78ffdea14"
      },
      "execution_count": null,
      "outputs": [
        {
          "output_type": "stream",
          "name": "stdout",
          "text": [
            "enter the number of rows:5\n",
            "* * * * * \n",
            "*       * \n",
            "*       * \n",
            "*       * \n",
            "* * * * * \n"
          ]
        }
      ]
    },
    {
      "cell_type": "code",
      "source": [
        "#pattern\n",
        "'''\n",
        "* * * * *\n",
        "* *   * *\n",
        "*   *   *\n",
        "* *   * *\n",
        "* * * * *\n",
        "'''\n",
        "n=int(input(\"enter the number of rows:\"))#here same no of rows and column\n",
        "for i in range(0,n):\n",
        "  for j in range(0,n):\n",
        "    if (i==0 or i==n-1 or j==0 or j==n-1 or i==j or i+j==n-1):\n",
        "      print(\"*\",end=\" \")\n",
        "    else:\n",
        "      print(\" \",end=\" \")\n",
        "  print()"
      ],
      "metadata": {
        "colab": {
          "base_uri": "https://localhost:8080/"
        },
        "id": "dM6K4_W1AkJO",
        "outputId": "86d068e3-9af3-4a9f-ba3e-5db6ef58bcf5"
      },
      "execution_count": null,
      "outputs": [
        {
          "output_type": "stream",
          "name": "stdout",
          "text": [
            "enter the number of rows:5\n",
            "* * * * * \n",
            "* *   * * \n",
            "*   *   * \n",
            "* *   * * \n",
            "* * * * * \n"
          ]
        }
      ]
    },
    {
      "cell_type": "code",
      "source": [
        "#pattern\n",
        "'''\n",
        "1 2 3 4\n",
        "5 6 7 8\n",
        "9 10 11 12\n",
        "13 14 15 16\n",
        "'''\n",
        "n=int(input(\"enter the number of rows:\"))#here same no of rows and column\n",
        "K=1\n",
        "for i in range(0,n):\n",
        "  for j in range(0,n):\n",
        "\n",
        "      print(K,end=\" \")\n",
        "      K=K+1\n",
        "\n",
        "  print()"
      ],
      "metadata": {
        "colab": {
          "base_uri": "https://localhost:8080/"
        },
        "id": "C001e8_fAkNY",
        "outputId": "12b81ed5-fc2a-430f-957d-452a07977b1b"
      },
      "execution_count": null,
      "outputs": [
        {
          "output_type": "stream",
          "name": "stdout",
          "text": [
            "enter the number of rows:4\n",
            "1 2 3 4 \n",
            "5 6 7 8 \n",
            "9 10 11 12 \n",
            "13 14 15 16 \n"
          ]
        }
      ]
    },
    {
      "cell_type": "code",
      "source": [
        "# program to swap two numbers using 3rd variable\n",
        "\n",
        "n=int(input(\"Enter a number:\"))\n",
        "m=int(input(\"Enter a number:\"))\n",
        "\n",
        "temp=n\n",
        "n=m\n",
        "m=temp\n",
        "print(\"the value of n after swapping:\",n)\n",
        "print(\"the value of m after swapping:\",m)"
      ],
      "metadata": {
        "colab": {
          "base_uri": "https://localhost:8080/"
        },
        "id": "jyyePZkvv7A-",
        "outputId": "56063b1b-3ef5-4320-8487-d3ad8657cbf2"
      },
      "execution_count": null,
      "outputs": [
        {
          "output_type": "stream",
          "name": "stdout",
          "text": [
            "Enter a number:4\n",
            "Enter a number:7\n",
            "the value of n after swapping: 7\n",
            "the value of m after swapping: 4\n"
          ]
        }
      ]
    },
    {
      "cell_type": "code",
      "source": [
        "# without using 3rd variable\n",
        "\n",
        "n=int(input(\"Enter a number:\"))\n",
        "m=int(input(\"Enter a number:\"))\n",
        "\n",
        "n=n+m\n",
        "m=n-m\n",
        "n=n-m\n",
        "print(\"the value of n after swapping:\",n)\n",
        "print(\"the value of m after swapping:\",m)"
      ],
      "metadata": {
        "colab": {
          "base_uri": "https://localhost:8080/"
        },
        "id": "p3yBvdRAv7GQ",
        "outputId": "6b60b7ff-ffba-438e-8000-a21a1c222b80"
      },
      "execution_count": null,
      "outputs": [
        {
          "output_type": "stream",
          "name": "stdout",
          "text": [
            "Enter a number:8\n",
            "Enter a number:5\n",
            "the value of n after swapping: 5\n",
            "the value of m after swapping: 8\n"
          ]
        }
      ]
    },
    {
      "cell_type": "code",
      "source": [
        "#write a python program to find the best of 2 test average marks out of 3 tests marks accepted from the user\n",
        "marks1=int(input())\n",
        "marks2=int(input())\n",
        "marks3=int(input())\n",
        "\n",
        "if marks1>marks2 and marks2>marks3:\n",
        "  print((marks1+marks2)/2)\n",
        "\n",
        "elif marks3>marks1 and marks1>marks2:\n",
        "  print((marks1+marks3)/2)\n",
        "\n",
        "else:\n",
        "  print((marks3+marks2)/2)"
      ],
      "metadata": {
        "colab": {
          "base_uri": "https://localhost:8080/"
        },
        "id": "0gQVUjC2xGpA",
        "outputId": "508e3fa3-f3ce-4758-8313-7ff343496c6d"
      },
      "execution_count": null,
      "outputs": [
        {
          "output_type": "stream",
          "name": "stdout",
          "text": [
            "33\n",
            "56\n",
            "87\n",
            "71.5\n"
          ]
        }
      ]
    },
    {
      "cell_type": "code",
      "source": [
        "#Develop A PYTHON programe to convert a binary number into a decimal, octal or hexa decimal numbers using functions\n",
        "\n",
        "\n"
      ],
      "metadata": {
        "id": "kzlt-nKmxGu8"
      },
      "execution_count": null,
      "outputs": []
    },
    {
      "cell_type": "code",
      "source": [
        "#  Define a  function F as Fn =Fn-1 +Fn-2. write a python program which accepts a value for N(for N >0)\n",
        "#as input and pass this value to the function. Display suitable error msg if the condition for input vzlue is not followed\n",
        "\n",
        "\n"
      ],
      "metadata": {
        "id": "0TO_Lc7exG0Z"
      },
      "execution_count": null,
      "outputs": []
    },
    {
      "cell_type": "code",
      "source": [
        "# find string similarities between 2 similar strings\n",
        "\n"
      ],
      "metadata": {
        "id": "rMG_AG3mxG5_"
      },
      "execution_count": null,
      "outputs": []
    },
    {
      "cell_type": "code",
      "source": [
        "# write a Python program that accepts a sentence and finds the number of words, digits, uppercase lettrs and lower case letters\n",
        "\n",
        "\n"
      ],
      "metadata": {
        "id": "jEQRlb_gxG_S"
      },
      "execution_count": null,
      "outputs": []
    }
  ]
}