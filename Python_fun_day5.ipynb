{
  "nbformat": 4,
  "nbformat_minor": 0,
  "metadata": {
    "colab": {
      "provenance": [],
      "authorship_tag": "ABX9TyOnb7wJF+MHf1nbFnbeVML2",
      "include_colab_link": true
    },
    "kernelspec": {
      "name": "python3",
      "display_name": "Python 3"
    },
    "language_info": {
      "name": "python"
    }
  },
  "cells": [
    {
      "cell_type": "markdown",
      "metadata": {
        "id": "view-in-github",
        "colab_type": "text"
      },
      "source": [
        "<a href=\"https://colab.research.google.com/github/Div623/Python_t/blob/main/Python_fun_day5.ipynb\" target=\"_parent\"><img src=\"https://colab.research.google.com/assets/colab-badge.svg\" alt=\"Open In Colab\"/></a>"
      ]
    },
    {
      "cell_type": "code",
      "execution_count": null,
      "metadata": {
        "colab": {
          "base_uri": "https://localhost:8080/"
        },
        "id": "l4HO2QuEHn4s",
        "outputId": "b083623b-142f-4dff-80c4-fa1d1f585d3c"
      },
      "outputs": [
        {
          "output_type": "stream",
          "name": "stdout",
          "text": [
            "x: 10\n",
            "y: 50\n"
          ]
        }
      ],
      "source": [
        "#Default arguments ; in function def  actual parameter is passed ,in function call directly pass the parameter ,it is default alreday given\n",
        "def myfun(x,y=50):\n",
        "  print(\"x:\",x)\n",
        "  print(\"y:\",y)\n",
        "myfun(10)"
      ]
    },
    {
      "cell_type": "code",
      "source": [
        "# keyworded\n",
        "def student(firstname,lastname):\n",
        "  print(firstname,lastname)\n",
        "student(firstname=\"John\",lastname=\"Snow\")\n",
        "student(lastname=\"Snow\",firstname=\"John\")"
      ],
      "metadata": {
        "colab": {
          "base_uri": "https://localhost:8080/"
        },
        "id": "G893zZc1HqCb",
        "outputId": "cb6bbc44-90a7-4cc5-b6f2-f9c4a21b91b8"
      },
      "execution_count": null,
      "outputs": [
        {
          "output_type": "stream",
          "name": "stdout",
          "text": [
            "John Snow\n",
            "John Snow\n"
          ]
        }
      ]
    },
    {
      "cell_type": "code",
      "source": [
        "#Non-keyworded variable length arguments\n",
        "def myfun1(*argv):\n",
        "  print(argv)\n",
        "myfun1(10,20,30)"
      ],
      "metadata": {
        "colab": {
          "base_uri": "https://localhost:8080/"
        },
        "id": "aGm8vZUCJIi5",
        "outputId": "cea06c3d-d41a-4b66-bb7f-9460d94d37e3"
      },
      "execution_count": null,
      "outputs": [
        {
          "output_type": "stream",
          "name": "stdout",
          "text": [
            "(10, 20, 30)\n"
          ]
        }
      ]
    },
    {
      "cell_type": "code",
      "source": [
        "#using kwargs - keyworded variable length arguments\n",
        "def myfun2(**kwargs):\n",
        "  print(kwargs)\n",
        "myfun2(fname=\"John\",lname=\"Snow\")"
      ],
      "metadata": {
        "colab": {
          "base_uri": "https://localhost:8080/"
        },
        "id": "wupTJfGyJIot",
        "outputId": "4bf43a55-05f6-4ac0-e6ba-f2374c5f509d"
      },
      "execution_count": null,
      "outputs": [
        {
          "output_type": "stream",
          "name": "stdout",
          "text": [
            "{'fname': 'John', 'lname': 'Snow'}\n"
          ]
        }
      ]
    },
    {
      "cell_type": "code",
      "source": [
        "#anonymous function\n",
        "def cube(x):\n",
        "  return x*x*x\n",
        "#or\n",
        "cube_v2=lambda x :x*x*x\n",
        "\n",
        "print(cube(3))\n",
        "print(cube_v2(3))"
      ],
      "metadata": {
        "colab": {
          "base_uri": "https://localhost:8080/"
        },
        "id": "wjJ3ef4nJItJ",
        "outputId": "1d4b02a6-5d84-46dc-c40a-a7dd391486d2"
      },
      "execution_count": null,
      "outputs": [
        {
          "output_type": "stream",
          "name": "stdout",
          "text": [
            "27\n",
            "27\n"
          ]
        }
      ]
    },
    {
      "cell_type": "code",
      "source": [
        "# recurssion approach, to find ; N power P\n",
        "def power(N,P):\n",
        "  if P==0:      # or return 1 if p==0 else n*poer(n,p-1)\n",
        "    return 1\n",
        "  #recurssion relation\n",
        "  return N*power(N,P-1)\n",
        "\n",
        "N=int(input(\"Enter the number:\"))\n",
        "P=int(input(\"Enter the power:\"))\n",
        "print(power(N,P))"
      ],
      "metadata": {
        "colab": {
          "base_uri": "https://localhost:8080/"
        },
        "id": "Lbbi1tlQJIxf",
        "outputId": "659da8c1-8617-496d-d93a-6c247aaa11ab"
      },
      "execution_count": null,
      "outputs": [
        {
          "output_type": "stream",
          "name": "stdout",
          "text": [
            "Enter the number:2\n",
            "Enter the power:3\n",
            "8\n"
          ]
        }
      ]
    },
    {
      "cell_type": "code",
      "source": [
        "'''\n",
        "54321  # using recussive call\n",
        "5432\n",
        "543\n",
        "54\n",
        "5\n",
        "'''\n",
        "def print_pattern(n,m):\n",
        "  if n==0:            # base condition\n",
        "    return\n",
        "  for i in range(5,m-1,-1):   # (m-1) i.e 0 is to include 1\n",
        "    print(i,end=\" \")\n",
        "  print()\n",
        "  print_pattern(n-1,m+1)\n",
        "n=5\n",
        "print_pattern(n,1)\n"
      ],
      "metadata": {
        "id": "7lHJOhkBREyU",
        "colab": {
          "base_uri": "https://localhost:8080/"
        },
        "outputId": "e17d55bf-1b55-40c0-efd0-13c0891e240e"
      },
      "execution_count": null,
      "outputs": [
        {
          "output_type": "stream",
          "name": "stdout",
          "text": [
            "5 4 3 2 1 \n",
            "5 4 3 2 \n",
            "5 4 3 \n",
            "5 4 \n",
            "5 \n"
          ]
        }
      ]
    },
    {
      "cell_type": "code",
      "source": [
        "#write a program to convert decimal number to binary\n",
        "def binary(d):\n",
        "  if d==0:\n",
        "    return \"0\"\n",
        "  b=\"\"\n",
        "  while d>0:\n",
        "    b=str(d%2)+b  # '+' means string concatenation not add\n",
        "    d=d//2\n",
        "  return b\n",
        "\n",
        "d=int(input(\"Enter the number:\"))\n",
        "b= binary(d)\n",
        "print(b)\n"
      ],
      "metadata": {
        "colab": {
          "base_uri": "https://localhost:8080/"
        },
        "id": "Xh9o_Tk9qXsX",
        "outputId": "c9e67ac3-159c-4ca1-d22c-3a8870b5619a"
      },
      "execution_count": null,
      "outputs": [
        {
          "output_type": "stream",
          "name": "stdout",
          "text": [
            "Enter the number:22\n",
            "10110\n"
          ]
        }
      ]
    },
    {
      "cell_type": "code",
      "source": [
        "# to convert any base number to decimal\n",
        "def any_b_t_dec(number,base):\n",
        "  dec=int(number,base)\n",
        "  print(dec)\n",
        "#driver code\n",
        "hex_num='1A'\n",
        "base=16\n",
        "a=any_b_t_dec(hex_num,base)\n",
        "number=input(\"Enter the number:\")\n",
        "base=int(input(\"Enter the base:\"))\n",
        "any_b_t_dec(number,base)"
      ],
      "metadata": {
        "colab": {
          "base_uri": "https://localhost:8080/"
        },
        "id": "tRrx8xjowJ95",
        "outputId": "d0f2eebd-a5c4-42aa-e423-0a25a5866a1b"
      },
      "execution_count": null,
      "outputs": [
        {
          "output_type": "stream",
          "name": "stdout",
          "text": [
            "26\n",
            "Enter the number:45\n",
            "Enter the base:16\n",
            "69\n"
          ]
        }
      ]
    }
  ]
}