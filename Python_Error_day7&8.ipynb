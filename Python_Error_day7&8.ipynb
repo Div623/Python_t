{
  "nbformat": 4,
  "nbformat_minor": 0,
  "metadata": {
    "colab": {
      "provenance": [],
      "authorship_tag": "ABX9TyOrt6BpWnnu1PKFHk1aaK/u",
      "include_colab_link": true
    },
    "kernelspec": {
      "name": "python3",
      "display_name": "Python 3"
    },
    "language_info": {
      "name": "python"
    }
  },
  "cells": [
    {
      "cell_type": "markdown",
      "metadata": {
        "id": "view-in-github",
        "colab_type": "text"
      },
      "source": [
        "<a href=\"https://colab.research.google.com/github/Div623/Python_t/blob/main/Python_Error_day7%268.ipynb\" target=\"_parent\"><img src=\"https://colab.research.google.com/assets/colab-badge.svg\" alt=\"Open In Colab\"/></a>"
      ]
    },
    {
      "cell_type": "code",
      "execution_count": null,
      "metadata": {
        "colab": {
          "base_uri": "https://localhost:8080/"
        },
        "id": "fAWVsgeOVLRV",
        "outputId": "204208ae-ae3e-4b83-df10-a43f43928f0e"
      },
      "outputs": [
        {
          "output_type": "stream",
          "name": "stdout",
          "text": [
            "Enter the first number: 34\n",
            "Enter the second number: 2\n",
            "No exception occured\n",
            "End of the program\n"
          ]
        }
      ],
      "source": [
        "try:\n",
        "  num1=int(input(\"Enter the first number: \"))\n",
        "  num2=int(input(\"Enter the second number: \"))\n",
        "  result=num1/num2\n",
        "\n",
        "except ZeroDivisionError:\n",
        "  print(\"Error: Division by zero is not allowed.\")\n",
        "\n",
        "except ValueError:\n",
        "  print(\"Error: Invalid input. Please enter a valid number.\")\n",
        "else:\n",
        "  print(\"No exception occured\")\n",
        "\n",
        "finally:\n",
        "  print(\"End of the program\")"
      ]
    },
    {
      "cell_type": "code",
      "source": [
        "def convert_to_integer(string):\n",
        "  try:\n",
        "    number=int(string)\n",
        "    print(\"Integer value\")\n",
        "  except ValueError:\n",
        "    print(\"Invalid input. Please enter a valid number.\")\n",
        "\n",
        "def main():\n",
        "  string=input(\"Enter a string to convert into integer: \")\n",
        "  convert_to_integer(string)\n",
        "\n",
        "if __name__==\"__main__\":\n",
        "  main()\n"
      ],
      "metadata": {
        "colab": {
          "base_uri": "https://localhost:8080/"
        },
        "id": "TudMMFH2VsHX",
        "outputId": "a2ec5660-6790-478a-b68c-31c9b1de3b40"
      },
      "execution_count": null,
      "outputs": [
        {
          "output_type": "stream",
          "name": "stdout",
          "text": [
            "Enter a string to convert into integer: 34\n",
            "Integer value\n"
          ]
        }
      ]
    },
    {
      "cell_type": "code",
      "source": [
        "# Compile error : syntax, logical,\n",
        "# Run time error: file not found, type error ,value error, index out of bound, key value"
      ],
      "metadata": {
        "id": "3JVuAsy7XkAB"
      },
      "execution_count": null,
      "outputs": []
    },
    {
      "cell_type": "code",
      "source": [
        " #raise error , alias error\n",
        " def get_positive_integer():\n",
        "  while True:              #since it is in while loop until u give correct input it still runs\n",
        "    try:\n",
        "      num=int(input(\"Enter a positive integer: \"))\n",
        "      if num<=0:\n",
        "        raise ValueError(\"Please enter a positive integer.\")\n",
        "      return num\n",
        "    except ValueError as e:   # Valueerror alias e\n",
        "      print(\"error\",e)\n",
        "print(get_positive_integer())"
      ],
      "metadata": {
        "colab": {
          "base_uri": "https://localhost:8080/"
        },
        "id": "UbaL_8FWAWep",
        "outputId": "c08b8f8a-6307-471b-c549-a3c87183856f"
      },
      "execution_count": null,
      "outputs": [
        {
          "output_type": "stream",
          "name": "stdout",
          "text": [
            "Enter a positive integer: 3f\n",
            "error invalid literal for int() with base 10: '3f'\n",
            "Enter a positive integer: 3\n",
            "3\n"
          ]
        }
      ]
    },
    {
      "cell_type": "code",
      "source": [
        "#custom exception\n",
        "class MycustomError(Exception):\n",
        "  def __init__(self,message):\n",
        "    self.message=message\n",
        "try:\n",
        "  raise MycustomError(\"This is a custom error message\")\n",
        "except MycustomError as e:\n",
        "  print(\"caught custom exception\",e)"
      ],
      "metadata": {
        "colab": {
          "base_uri": "https://localhost:8080/"
        },
        "id": "egk3yODVAZFC",
        "outputId": "a0f2a672-c174-40ef-9621-511e84536e12"
      },
      "execution_count": null,
      "outputs": [
        {
          "output_type": "stream",
          "name": "stdout",
          "text": [
            "caught custom exception This is a custom error message\n"
          ]
        }
      ]
    },
    {
      "cell_type": "code",
      "source": [
        "def access_list_element(lst,index):\n",
        "  try:\n",
        "    value=lst[index]\n",
        "    print(\"value at index\",value)\n",
        "  except IndexError :\n",
        "    print(\"Error: Index out of range\")\n",
        "mylist=[1,2,3,4,5]\n",
        "index=int(input(\"Enter the index: \"))\n",
        "access_list_element(mylist,index)\n"
      ],
      "metadata": {
        "colab": {
          "base_uri": "https://localhost:8080/"
        },
        "id": "V-zH-omVAZKO",
        "outputId": "9a9156d0-f9c4-42c5-a546-d0982c727fb0"
      },
      "execution_count": null,
      "outputs": [
        {
          "output_type": "stream",
          "name": "stdout",
          "text": [
            "Enter the index: 3\n",
            "value at index 4\n"
          ]
        }
      ]
    },
    {
      "cell_type": "code",
      "source": [
        "#fie not found\n",
        "try:\n",
        "  file = open(\"nonexistentfile.txt\", \"r\")\n",
        "  content=file.read()\n",
        "  file.close\n",
        "except FileNotFoundError:\n",
        "  print(\"Error: File not found\")"
      ],
      "metadata": {
        "colab": {
          "base_uri": "https://localhost:8080/"
        },
        "id": "7u-fPxzDAZPa",
        "outputId": "02d3b395-c149-44ee-eb4c-23f42ee1b88a"
      },
      "execution_count": null,
      "outputs": [
        {
          "output_type": "stream",
          "name": "stdout",
          "text": [
            "Error: File not found\n"
          ]
        }
      ]
    },
    {
      "cell_type": "code",
      "source": [
        "#key error\n",
        "def access_dictionary_value(dictionary,key):\n",
        "  try:\n",
        "    value=dictionary[key]\n",
        "    print(\"value at key\",key,\"is\",value)\n",
        "  except KeyError:\n",
        "    print(\"Error: Key not found\")\n",
        "\n",
        "my_dict={'a':1,'b':2,'c':3}\n",
        "key=input(\"Enter the key to access: \")\n",
        "access_dictionary_value(my_dict,key)"
      ],
      "metadata": {
        "colab": {
          "base_uri": "https://localhost:8080/"
        },
        "id": "saXv8g4gAZUe",
        "outputId": "5c411787-8959-4bff-b4a3-e003da754dae"
      },
      "execution_count": null,
      "outputs": [
        {
          "output_type": "stream",
          "name": "stdout",
          "text": [
            "Enter the key to access: d\n",
            "Error: Key not found\n"
          ]
        }
      ]
    }
  ]
}