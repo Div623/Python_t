{
  "nbformat": 4,
  "nbformat_minor": 0,
  "metadata": {
    "colab": {
      "provenance": [],
      "authorship_tag": "ABX9TyOA79f80M7yFL/oAibHMXlF",
      "include_colab_link": true
    },
    "kernelspec": {
      "name": "python3",
      "display_name": "Python 3"
    },
    "language_info": {
      "name": "python"
    }
  },
  "cells": [
    {
      "cell_type": "markdown",
      "metadata": {
        "id": "view-in-github",
        "colab_type": "text"
      },
      "source": [
        "<a href=\"https://colab.research.google.com/github/Div623/Python_t/blob/main/Python_day6%267_OOPs.ipynb\" target=\"_parent\"><img src=\"https://colab.research.google.com/assets/colab-badge.svg\" alt=\"Open In Colab\"/></a>"
      ]
    },
    {
      "cell_type": "code",
      "execution_count": null,
      "metadata": {
        "id": "TjC8S-dL67tV",
        "colab": {
          "base_uri": "https://localhost:8080/"
        },
        "outputId": "725a45e2-e4d6-4681-9e92-df1e16c6e5b4"
      },
      "outputs": [
        {
          "output_type": "stream",
          "name": "stdout",
          "text": [
            "Rahul\n",
            "886012\n",
            "My name is  Rahul\n",
            "My idnumber is  886012\n"
          ]
        }
      ],
      "source": [
        "class Person(object):\n",
        "  def __init__(self, name , idnumber ):\n",
        "    self.name = name\n",
        "    self.idnumber = idnumber\n",
        "\n",
        "  def display(self):\n",
        "    print(self.name)\n",
        "    print(self.idnumber)\n",
        "\n",
        "  def details(self):\n",
        "    print(f\"my name is{self.name}\")\n",
        "    print(f\"my idnumber is{self.idnumber}\")\n",
        "\n",
        "#child class\n",
        "class Employee(Person):\n",
        "  def __init__(self, name, idnumber, salary, post):\n",
        "    self.salary = salary\n",
        "    self.post = post\n",
        "    Person.__init__(self,name, idnumber)\n",
        "\n",
        "  def details(self):\n",
        "    print(\"My name is \",(self.name))\n",
        "    print(\"My idnumber is \",(self.idnumber))\n",
        "\n",
        "#creation of an object variable or an instance\n",
        "a=Employee('Rahul',886012,200000,'Intern')\n",
        "a.display()\n",
        "a.details()\n"
      ]
    },
    {
      "cell_type": "code",
      "source": [
        "#polymorphism\n",
        "class Bird():\n",
        "  def intro(self):\n",
        "    print(\"there are many types of birds\")\n",
        "  def flight(self):\n",
        "    print(\"Most of the birds can fly\")\n",
        "\n",
        "class sparrow(Bird):\n",
        "  def flight(seif):\n",
        "    print(\"sparrows can fly\")\n",
        "\n",
        "class ostrich(Bird):\n",
        "  def flight(self):\n",
        "    print(\"ostriches cannot fly\")\n",
        "\n",
        "obj_bird=Bird()\n",
        "obj_spr=sparrow()\n",
        "obj_ost=ostrich()\n",
        "\n",
        "obj_bird.intro()\n",
        "obj_bird.flight()\n",
        "\n",
        "obj_spr.intro()\n",
        "obj_spr.flight()\n",
        "\n",
        "obj_ost.intro()\n",
        "obj_ost.flight()"
      ],
      "metadata": {
        "colab": {
          "base_uri": "https://localhost:8080/"
        },
        "id": "vaO98Ep95Bm3",
        "outputId": "d1931537-75e4-4ae0-cbf5-4733c1451766"
      },
      "execution_count": null,
      "outputs": [
        {
          "output_type": "stream",
          "name": "stdout",
          "text": [
            "there are many types of birds\n",
            "Most of the birds can fly\n",
            "there are many types of birds\n",
            "sparrows can fly\n",
            "there are many types of birds\n",
            "ostriches cannot fly\n"
          ]
        }
      ]
    },
    {
      "cell_type": "code",
      "source": [
        "#Acess modifiers\n",
        "class Super():\n",
        "\n",
        "  #public data member\n",
        "  var1=None\n",
        "\n",
        "  #protected data member\n",
        "  _var2=None\n",
        "\n",
        "  #private data memeber\n",
        "  __var3=None\n",
        "\n",
        "  #constructor\n",
        "  def __init__(self,var1,var2,var3):\n",
        "    self.var1=1\n",
        "    self._var2=2\n",
        "    self.__var3=3\n",
        "\n",
        "  #public member function\n",
        "  def displayPublicmembers(self):\n",
        "    #accessing public data members\n",
        "    print(\"Public Data member:\",self.var1)\n",
        "\n",
        "  #protected member function\n",
        "  def _displayProtectedmembers(self):\n",
        "    #accessing protected data members\n",
        "    print(\"Protected Data member:\",self._var2)\n",
        "\n",
        "  #private member function\n",
        "  def __displayPrivatemembers(self):\n",
        "    #accessing private data members\n",
        "    print(\"Private Data member:\",self.__var3)\n",
        "\n",
        "  #private member function\n",
        "  def accessPrivateMembers(self):\n",
        "    #accessing private data functions\n",
        "    self.__displayPrivatemembers()\n",
        "\n",
        "class sub(Super):\n",
        "  def __init__(self,var1,var2,var3):\n",
        "    #calling constructor of super class\n",
        "    Super.__init__(self,var1,var2,var3)\n",
        "\n",
        "  #protected member function\n",
        "  def accessProtectedMembers(self):\n",
        "    #accessing protected  member functions of super clss\n",
        "    self._displayProtectedmembers()\n",
        "\n",
        "  #public member function\n",
        "  def accessPublicMembers(self):\n",
        "    #accessing public member functions of super class\n",
        "    self.displayPublicmembers()\n",
        "\n",
        "obj=sub('hello',\"all\",\"people\")    # hello > var1 i.e public  , all > protected , people > private\n",
        "#calling public member functions of the class\n",
        "obj.displayPublicmembers()\n",
        "obj.accessProtectedMembers()\n",
        "obj.accessPrivateMembers()\n",
        "\n",
        "#object can access protected member\n",
        "print(\"Object s accessing protected member \",obj._var2)\n",
        "\n"
      ],
      "metadata": {
        "colab": {
          "base_uri": "https://localhost:8080/"
        },
        "id": "KGyL5KEY5Bqe",
        "outputId": "2a72cc81-ff92-46d7-b060-e839fa48faa8"
      },
      "execution_count": null,
      "outputs": [
        {
          "output_type": "stream",
          "name": "stdout",
          "text": [
            "Public Data member: 1\n",
            "Protected Data member: 2\n",
            "Private Data member: 3\n",
            "Object s accessing protected member  2\n"
          ]
        }
      ]
    },
    {
      "cell_type": "code",
      "source": [
        "#write a python program to create a class representing shopping card include methods for adding and removing items and calculate total price\n",
        "class shop_cart():\n",
        "  def __init__(self):\n",
        "    self.items={}\n",
        "\n",
        "  def adding_item(self,item_name,price,quantity=1):\n",
        "#if item already exists then increement quantity\n",
        "    if item_name in self.items:\n",
        "      self.items[item_name]['quantity']+=quantity\n",
        "    else:\n",
        "      self.items[item_name]={'price':price , 'quantity':quantity}\n",
        "      print(f\"added {quantity} of {item_name} to the cart\")\n",
        "\n",
        "  def removing_item(self,item_name,quantity=1):\n",
        "#incase you try to remove more quantity than present then delete all\n",
        "    if item_name in self.items:\n",
        "      if self.items[item_name]['quantity']<=quantity:\n",
        "        del self.items[item_name]\n",
        "        print(f\"removed all {item_name} from the cart.\")\n",
        "      else:\n",
        "        self.items[item_name]['quantity']-=quantity\n",
        "        print(f\"removed {quantity} of {item_name} from the cart\")\n",
        "    else:\n",
        "      print(f\"{item_name} not found in the cart\")\n",
        "\n",
        "  def calculate_total(self):\n",
        "    total_price=0\n",
        "    for item in self.items.values():\n",
        "      total_price += item['price'] * item['quantity']\n",
        "    return total_price\n",
        "\n",
        "  def display_cart(self):\n",
        "    if not self.items:\n",
        "      print(\"The cart is empty\")\n",
        "    else:\n",
        "      print(\"Shopping cart\")\n",
        "      for item_name,details in self.items.items():\n",
        "        print(f\"{item_name}:{details['price']} x {details['quantity']}\")\n",
        "      print(f\"Total: {self.calculate_total()}\")\n",
        "\n",
        "#Example usage:\n",
        "cart=shop_cart()\n",
        "cart.adding_item(\"Apple\",99,5)\n",
        "cart.adding_item(\"Banana\",59,3)\n",
        "cart.display_cart()\n",
        "\n",
        "cart.removing_item(\"Apple\",2)\n",
        "cart.display_cart()\n",
        "\n",
        "cart.adding_item(\"Orange\",29,2)\n",
        "cart.display_cart()\n",
        "\n",
        "cart.removing_item(\"Banana\",3)\n",
        "cart.display_cart()"
      ],
      "metadata": {
        "colab": {
          "base_uri": "https://localhost:8080/"
        },
        "id": "edrLeAhK8ttb",
        "outputId": "35fb1dd2-6d9a-41e3-fb71-aaaabcf24e10"
      },
      "execution_count": null,
      "outputs": [
        {
          "output_type": "stream",
          "name": "stdout",
          "text": [
            "added 5 of Apple to the cart\n",
            "added 3 of Banana to the cart\n",
            "Shopping cart\n",
            "Apple:99 x 5\n",
            "Banana:59 x 3\n",
            "Total: 672\n",
            "removed 2 of Apple from the cart\n",
            "Shopping cart\n",
            "Apple:99 x 3\n",
            "Banana:59 x 3\n",
            "Total: 474\n",
            "added 2 of Orange to the cart\n",
            "Shopping cart\n",
            "Apple:99 x 3\n",
            "Banana:59 x 3\n",
            "Orange:29 x 2\n",
            "Total: 532\n",
            "removed all Banana from the cart.\n",
            "Shopping cart\n",
            "Apple:99 x 3\n",
            "Orange:29 x 2\n",
            "Total: 355\n"
          ]
        }
      ]
    }
  ]
}