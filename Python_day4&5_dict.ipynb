{
  "nbformat": 4,
  "nbformat_minor": 0,
  "metadata": {
    "colab": {
      "provenance": [],
      "authorship_tag": "ABX9TyMCRkiigFsPk9Fh0p7RqskU",
      "include_colab_link": true
    },
    "kernelspec": {
      "name": "python3",
      "display_name": "Python 3"
    },
    "language_info": {
      "name": "python"
    }
  },
  "cells": [
    {
      "cell_type": "markdown",
      "metadata": {
        "id": "view-in-github",
        "colab_type": "text"
      },
      "source": [
        "<a href=\"https://colab.research.google.com/github/Div623/Python_t/blob/main/Python_day4%265_dict.ipynb\" target=\"_parent\"><img src=\"https://colab.research.google.com/assets/colab-badge.svg\" alt=\"Open In Colab\"/></a>"
      ]
    },
    {
      "cell_type": "code",
      "execution_count": null,
      "metadata": {
        "colab": {
          "base_uri": "https://localhost:8080/"
        },
        "id": "m_OBvOjm6r_R",
        "outputId": "4b7c0a16-eee1-4fc2-ed8c-713d78de053f"
      },
      "outputs": [
        {
          "output_type": "stream",
          "name": "stdout",
          "text": [
            "{'brand': 'Ford', 'model': 'Mustang', 'year': 1964}\n",
            "{'name': 'John', 'age': 36, 'country': 'Norway'}\n",
            "<class 'dict'>\n",
            "<class 'dict'>\n",
            "3\n",
            "3\n"
          ]
        }
      ],
      "source": [
        "thisdict1={\n",
        "    \"brand\":\"Ford\",\n",
        "    \"model\":\"Mustang\",\n",
        "    \"year\":1964\n",
        "}\n",
        "thisdict2 = dict(name=\"John\",age=36,country=\"Norway\")\n",
        "print(thisdict1)\n",
        "print(thisdict2)\n",
        "print(type(thisdict1))\n",
        "print(type(thisdict2))\n",
        "print(len(thisdict1))\n",
        "print(len(thisdict2))"
      ]
    },
    {
      "cell_type": "code",
      "source": [
        "#adding key:value pairs\n",
        "my_dict = {}\n",
        "my_dict['name']= 'Alice'\n",
        "my_dict['age']= 25\n",
        "my_dict['city']= 'New York'\n",
        "print(my_dict)\n"
      ],
      "metadata": {
        "colab": {
          "base_uri": "https://localhost:8080/"
        },
        "id": "XvJMEkGW7LWo",
        "outputId": "e8325170-528a-4e8e-8999-38719298d83a"
      },
      "execution_count": null,
      "outputs": [
        {
          "output_type": "stream",
          "name": "stdout",
          "text": [
            "{'name': 'Alice', 'age': 25, 'city': 'New York'}\n"
          ]
        }
      ]
    },
    {
      "cell_type": "code",
      "source": [
        "#access\n",
        "print(\"Name:\",my_dict['name'])\n",
        "print(\"Age:\",my_dict['age'])\n",
        "print(\"City:\",my_dict['city'])\n",
        "x=my_dict.keys()\n",
        "print(x)\n",
        "y=my_dict.values()\n",
        "print(y)\n",
        "z=my_dict.items()\n",
        "print(z)\n",
        "m=my_dict.get(\"name\")\n",
        "print(x)\n"
      ],
      "metadata": {
        "colab": {
          "base_uri": "https://localhost:8080/"
        },
        "id": "c6RTp4cZ78gr",
        "outputId": "08ce993b-dc13-4583-e1d8-1fc57d256975"
      },
      "execution_count": null,
      "outputs": [
        {
          "output_type": "stream",
          "name": "stdout",
          "text": [
            "Name: Alice\n",
            "Age: 25\n",
            "City: New York\n",
            "dict_keys(['name', 'age', 'city'])\n",
            "dict_values(['Alice', 25, 'New York'])\n",
            "dict_items([('name', 'Alice'), ('age', 25), ('city', 'New York')])\n",
            "dict_keys(['name', 'age', 'city'])\n"
          ]
        }
      ]
    },
    {
      "cell_type": "code",
      "source": [
        "for x in my_dict:\n",
        "    print(x)\n",
        "for x in my_dict:\n",
        "  print(my_dict[x])"
      ],
      "metadata": {
        "id": "eWpvok6-8VcX",
        "colab": {
          "base_uri": "https://localhost:8080/"
        },
        "outputId": "a13c5d34-78ae-4b53-f8b2-62083a8b6458"
      },
      "execution_count": null,
      "outputs": [
        {
          "output_type": "stream",
          "name": "stdout",
          "text": [
            "name\n",
            "age\n",
            "city\n",
            "Alice\n",
            "25\n",
            "New York\n"
          ]
        }
      ]
    },
    {
      "cell_type": "code",
      "source": [
        "#iterate over keys\n",
        "print(\"Keys:\")\n",
        "for x in my_dict.keys():\n",
        "  print(x)\n",
        "#iterate over values\n",
        "for x in my_dict.values():\n",
        "  print(x)\n",
        "#iterate over key:value pairs\n",
        "for x in my_dict.items():\n",
        "  print(x)"
      ],
      "metadata": {
        "colab": {
          "base_uri": "https://localhost:8080/"
        },
        "id": "PRVfQFbsinA_",
        "outputId": "c0357d54-04bb-4105-b8d8-c0044587acf8"
      },
      "execution_count": null,
      "outputs": [
        {
          "output_type": "stream",
          "name": "stdout",
          "text": [
            "Keys:\n",
            "name\n",
            "age\n",
            "city\n",
            "Alice\n",
            "25\n",
            "New York\n",
            "('name', 'Alice')\n",
            "('age', 25)\n",
            "('city', 'New York')\n"
          ]
        }
      ]
    },
    {
      "cell_type": "code",
      "source": [
        "#checking if a key exists\n",
        "if \"name\" in my_dict:\n",
        "  print( \"'name' is one of the keys in the dictionary\")            # in\n",
        "else:\n",
        "  print(\"'name' is not one of the keys in the dictionary\")"
      ],
      "metadata": {
        "colab": {
          "base_uri": "https://localhost:8080/"
        },
        "id": "5UGguJISinG5",
        "outputId": "0fdb46bd-e94b-4057-ea66-c8c0c10b2d05"
      },
      "execution_count": null,
      "outputs": [
        {
          "output_type": "stream",
          "name": "stdout",
          "text": [
            "'name' is one of the keys in the dictionary\n"
          ]
        }
      ]
    },
    {
      "cell_type": "code",
      "source": [
        "# changable property  1) assigning\n",
        "my_dict['age']=35\n",
        "print(\"Modified dictionary:\")\n",
        "print(my_dict)\n",
        "# 2) using update method\n",
        "my_dict.update({\"age\":40})  # dict.update( { key:value } )\n",
        "print(\"Updated dictionary:\")\n",
        "print(my_dict)\n"
      ],
      "metadata": {
        "colab": {
          "base_uri": "https://localhost:8080/"
        },
        "id": "aHQEjbdminL8",
        "outputId": "c94fb666-0b93-4c9e-e91d-d3bdbcbf340f"
      },
      "execution_count": null,
      "outputs": [
        {
          "output_type": "stream",
          "name": "stdout",
          "text": [
            "Modified dictionary:\n",
            "{'name': 'Alice', 'age': 35, 'city': 'New York'}\n",
            "Updated dictionary:\n",
            "{'name': 'Alice', 'age': 40, 'city': 'New York'}\n"
          ]
        }
      ]
    },
    {
      "cell_type": "code",
      "source": [
        "# removing a key:value pair using pop\n",
        "removed_value=my_dict.pop(\"city\")\n",
        "print(\"Removed value:\",removed_value)\n",
        "print(\"Updated dictionary:\")\n",
        "print(my_dict)"
      ],
      "metadata": {
        "colab": {
          "base_uri": "https://localhost:8080/"
        },
        "id": "QgiUG5wyinRV",
        "outputId": "ae698a43-71cb-43d2-d0f2-ffec6334c623"
      },
      "execution_count": null,
      "outputs": [
        {
          "output_type": "stream",
          "name": "stdout",
          "text": [
            "Removed value: New York\n",
            "Updated dictionary:\n",
            "{'name': 'Alice', 'age': 40}\n"
          ]
        }
      ]
    },
    {
      "cell_type": "code",
      "source": [
        "# using popitem()\n",
        "my_dict.popitem() # last inserted one is popped\n",
        "print(my_dict)"
      ],
      "metadata": {
        "colab": {
          "base_uri": "https://localhost:8080/"
        },
        "id": "I38kCWWginWN",
        "outputId": "636f25d8-fda4-427e-9d9d-fe6740df1c91"
      },
      "execution_count": null,
      "outputs": [
        {
          "output_type": "stream",
          "name": "stdout",
          "text": [
            "{'name': 'Alice'}\n"
          ]
        }
      ]
    },
    {
      "cell_type": "code",
      "source": [
        "#clear\n",
        "my_dict.clear()\n",
        "print(my_dict)       # clears the entire dictionary\n",
        "#del keyword\n",
        "del my_dict\n",
        "print(my_dict)    # gives error if we wnt to print alredy deleted dictionary"
      ],
      "metadata": {
        "colab": {
          "base_uri": "https://localhost:8080/",
          "height": 201
        },
        "id": "X1TuADlHlgFk",
        "outputId": "51159aa4-d4ca-4a29-911a-59e02f9688f6"
      },
      "execution_count": null,
      "outputs": [
        {
          "output_type": "stream",
          "name": "stdout",
          "text": [
            "{}\n"
          ]
        },
        {
          "output_type": "error",
          "ename": "NameError",
          "evalue": "name 'my_dict' is not defined",
          "traceback": [
            "\u001b[0;31m---------------------------------------------------------------------------\u001b[0m",
            "\u001b[0;31mNameError\u001b[0m                                 Traceback (most recent call last)",
            "\u001b[0;32m<ipython-input-13-4ad2eb089cb2>\u001b[0m in \u001b[0;36m<cell line: 6>\u001b[0;34m()\u001b[0m\n\u001b[1;32m      4\u001b[0m \u001b[0;31m#del keyword\u001b[0m\u001b[0;34m\u001b[0m\u001b[0;34m\u001b[0m\u001b[0m\n\u001b[1;32m      5\u001b[0m \u001b[0;32mdel\u001b[0m \u001b[0mmy_dict\u001b[0m\u001b[0;34m\u001b[0m\u001b[0;34m\u001b[0m\u001b[0m\n\u001b[0;32m----> 6\u001b[0;31m \u001b[0mprint\u001b[0m\u001b[0;34m(\u001b[0m\u001b[0mmy_dict\u001b[0m\u001b[0;34m)\u001b[0m\u001b[0;34m\u001b[0m\u001b[0;34m\u001b[0m\u001b[0m\n\u001b[0m",
            "\u001b[0;31mNameError\u001b[0m: name 'my_dict' is not defined"
          ]
        }
      ]
    },
    {
      "cell_type": "code",
      "source": [
        "# nested dictionary\n",
        "my_family={\n",
        "    \"child1\":{\n",
        "        \"name\":\"Alice\",\n",
        "        \"year\":2004\n",
        "    },\n",
        "    \"child2\":{\n",
        "        \"name\":\"Bob\",\n",
        "        \"year\":2007\n",
        "    },\n",
        "    \"child3\":{\n",
        "        \"name\":\"joe\",\n",
        "        \"year\":2011\n",
        "    }\n",
        "}\n",
        "print(my_family)\n",
        "\n",
        "#acess\n",
        "print(my_family[\"child1\"])             # child1 ;key\n",
        "print(my_family[\"child2\"][\"name\"])       # child2,name ;key"
      ],
      "metadata": {
        "colab": {
          "base_uri": "https://localhost:8080/"
        },
        "id": "29rHMQ2pl3O1",
        "outputId": "3394557f-a4f6-4142-ac85-42f70c7e9204"
      },
      "execution_count": null,
      "outputs": [
        {
          "output_type": "stream",
          "name": "stdout",
          "text": [
            "{'child1': {'name': 'Alice', 'year': 2004}, 'child2': {'name': 'Bob', 'year': 2007}, 'child3': {'name': 'joe', 'year': 2011}}\n",
            "{'name': 'Alice', 'year': 2004}\n",
            "Bob\n"
          ]
        }
      ]
    },
    {
      "cell_type": "code",
      "source": [
        "#iterate\n",
        "for x,y in my_family.items():\n",
        "    print(x,y)"
      ],
      "metadata": {
        "colab": {
          "base_uri": "https://localhost:8080/"
        },
        "id": "WRKD8tXDo1Q5",
        "outputId": "65ae14cf-e143-4945-890a-42064a208c46"
      },
      "execution_count": null,
      "outputs": [
        {
          "output_type": "stream",
          "name": "stdout",
          "text": [
            "child1 {'name': 'Alice', 'year': 2004}\n",
            "child2 {'name': 'Bob', 'year': 2007}\n",
            "child3 {'name': 'joe', 'year': 2011}\n"
          ]
        }
      ]
    },
    {
      "cell_type": "code",
      "source": [
        "#iterate\n",
        "for x,obj in my_family.items():\n",
        "    print(x)       #prints ;first key\n",
        "    for y in obj:\n",
        "        print(y +':', obj[y])  #prints ; second key + ':' (concatenates ':' to second key), values"
      ],
      "metadata": {
        "colab": {
          "base_uri": "https://localhost:8080/"
        },
        "id": "9vgjaopzqTDY",
        "outputId": "27b010b5-276d-453c-b48b-3b01ac38feb9"
      },
      "execution_count": null,
      "outputs": [
        {
          "output_type": "stream",
          "name": "stdout",
          "text": [
            "child1\n",
            "name: Alice\n",
            "year: 2004\n",
            "child2\n",
            "name: Bob\n",
            "year: 2007\n",
            "child3\n",
            "name: joe\n",
            "year: 2011\n"
          ]
        }
      ]
    }
  ]
}