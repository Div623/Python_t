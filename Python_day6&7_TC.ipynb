{
  "nbformat": 4,
  "nbformat_minor": 0,
  "metadata": {
    "colab": {
      "provenance": [],
      "authorship_tag": "ABX9TyNrKLuTAIZ32+GyVJhNT2xj",
      "include_colab_link": true
    },
    "kernelspec": {
      "name": "python3",
      "display_name": "Python 3"
    },
    "language_info": {
      "name": "python"
    }
  },
  "cells": [
    {
      "cell_type": "markdown",
      "metadata": {
        "id": "view-in-github",
        "colab_type": "text"
      },
      "source": [
        "<a href=\"https://colab.research.google.com/github/Div623/Python_t/blob/main/Python_day6%267_TC.ipynb\" target=\"_parent\"><img src=\"https://colab.research.google.com/assets/colab-badge.svg\" alt=\"Open In Colab\"/></a>"
      ]
    },
    {
      "cell_type": "code",
      "execution_count": null,
      "metadata": {
        "colab": {
          "base_uri": "https://localhost:8080/"
        },
        "id": "aZSNnLIH2tvs",
        "outputId": "2f79afeb-aec1-44cf-b7f9-e1c065657ae1"
      },
      "outputs": [
        {
          "output_type": "stream",
          "name": "stdout",
          "text": [
            "8.000000000000002\n"
          ]
        }
      ],
      "source": [
        "#previous question  power'p' of 'n' with reduced time complexity (TC)\n",
        "# RECUSSIVE TREE  n power p ; p/2 approach refer note book\n",
        "def fun(n,p):\n",
        "  if p==0:\n",
        "    return 1\n",
        "  O=pow(n,p/2)\n",
        "  return O*O\n",
        "\n",
        "N=2\n",
        "P=3\n",
        "O=fun(N,P)\n",
        "print(O)"
      ]
    },
    {
      "cell_type": "code",
      "source": [
        "# leet code\n",
        "'''given an array of 'n' numbers and another number 'x' the task is to check whether or not there exists 2 numbers in the array\n",
        " whose exact sum is 'x' '''\n",
        "\n",
        "def check_s(arr,a):\n",
        "  for i in range(len(arr)):   # i starts from 0\n",
        "    for j in range(i+1,len(arr)):      # [i^,j^, , ,]      ; j starts from 1\n",
        "      if arr[i]+arr[j]==a:\n",
        "        return arr[i],arr[j]\n",
        "arr=[1,3,-2,6,1]\n",
        "a=int(input(\"enter the sum to be searched:\"))\n",
        "S=check_s(arr,a)\n",
        "print(S)\n",
        "\n",
        "#or  ; with user input\n",
        "\n",
        "'''\n",
        "n=int(input(\"number elements in an array:\"))  # user input array\n",
        "li=[]\n",
        "for i in range(n):\n",
        "  x=int(input(\"enter array elements:\"))\n",
        "  li.append(x)\n",
        "\n",
        "def check_s(li,a):\n",
        "  for i in  li:    # i starts from 0\n",
        "    for j in li[1:]:    # [i^,j^, , ,]      ; j starts from 1\n",
        "      if li[i]+li[j]== a:\n",
        "        return li[i],li[j]\n",
        "a=int(input(\"enter the sum to be searched:\"))\n",
        "S=check_s(li,a)\n",
        "print(S) '''\n",
        "\n",
        "\n"
      ],
      "metadata": {
        "colab": {
          "base_uri": "https://localhost:8080/",
          "height": 109
        },
        "id": "S2AfIBFz27cB",
        "outputId": "8e847c8d-d6b2-4900-94f8-d2d3d831d8aa"
      },
      "execution_count": null,
      "outputs": [
        {
          "output_type": "stream",
          "name": "stdout",
          "text": [
            "enter the sum to be searched:2\n",
            "(1, 1)\n"
          ]
        },
        {
          "output_type": "execute_result",
          "data": {
            "text/plain": [
              "'\\nn=int(input(\"number elements in an array:\"))  # user input array\\nli=[]\\nfor i in range(n):\\n  x=int(input(\"enter array elements:\"))\\n  li.append(x)\\n  \\ndef check_s(li,a):\\n  for i in  li:    # i starts from 0\\n    for j in li[1:]:    # [i^,j^, , ,]      ; j starts from 1\\n      if li[i]+li[j]== a:\\n        return li[i],li[j]\\na=int(input(\"enter the sum to be searched:\"))\\nS=check_s(li,a)\\nprint(S) '"
            ],
            "application/vnd.google.colaboratory.intrinsic+json": {
              "type": "string"
            }
          },
          "metadata": {},
          "execution_count": 21
        }
      ]
    },
    {
      "cell_type": "code",
      "source": [
        "# 2 pointer approach   (previous question)    nlogn\n",
        "def findpair(a,n,x):\n",
        "  a.sort()\n",
        "  l=0\n",
        "  r=n-1\n",
        "  while(l<r):       # l and r are two pointers ; while loop because l and r cross\n",
        "      if(l!=r and a[l]+a[r]==x):\n",
        "        return True\n",
        "      elif(a[l]+a[r]>x):\n",
        "        r=r-1\n",
        "      elif(a[l]+a[r]<x):\n",
        "        l=l+1\n",
        "  return False\n",
        "\n",
        "a=[1,3,4,6,9]\n",
        "n=len(a)\n",
        "x=int(input(\"enter the sum to be searched:\"))\n",
        "\n",
        "print(findpair(a,n,x))\n"
      ],
      "metadata": {
        "colab": {
          "base_uri": "https://localhost:8080/"
        },
        "id": "F78LYev49fgj",
        "outputId": "6011f2ef-374f-4667-e744-6b3b7ee27a30"
      },
      "execution_count": null,
      "outputs": [
        {
          "output_type": "stream",
          "name": "stdout",
          "text": [
            "enter the sum to be searched:2\n",
            "False\n"
          ]
        }
      ]
    },
    {
      "cell_type": "code",
      "source": [
        "#O(1)\n",
        "def access_ele(arr,index):\n",
        "  return arr[index]\n",
        "\n",
        "arr=[1,2,3,4,5]\n",
        "index=2\n",
        "print(access_ele(arr,index))"
      ],
      "metadata": {
        "colab": {
          "base_uri": "https://localhost:8080/"
        },
        "id": "fWQdPp_XACZo",
        "outputId": "408d595b-64cf-494d-9928-147066c787c3"
      },
      "execution_count": null,
      "outputs": [
        {
          "output_type": "stream",
          "name": "stdout",
          "text": [
            "3\n"
          ]
        }
      ]
    },
    {
      "cell_type": "code",
      "source": [
        "#O(logn) - Binary search  - split the entire input\n",
        "# mid = l+(r-l)/2\n",
        "def binary_s(a,key):\n",
        "  l=0\n",
        "  r=len(a)-1\n",
        "  while(l<=r):    # while left cross right\n",
        "    mid=l+(r-l)//2\n",
        "    if a[mid]==key:\n",
        "      return True\n",
        "    elif a[mid]>key:\n",
        "      r=mid-1\n",
        "    elif a[mid]<key:\n",
        "      l=mid+1\n",
        "  return\n",
        "\n",
        "a=[10,20,90,60,40,89,56]\n",
        "a.sort()\n",
        "key=int(input(\"Enter the key element to be serached:\"))\n",
        "binary_s(a,key)"
      ],
      "metadata": {
        "colab": {
          "base_uri": "https://localhost:8080/"
        },
        "id": "OJ2OBLRSACeY",
        "outputId": "3cb5297b-8a84-4085-fe7b-d3ed315b1019"
      },
      "execution_count": null,
      "outputs": [
        {
          "name": "stdout",
          "output_type": "stream",
          "text": [
            "Enter the key element to be serached:40\n"
          ]
        },
        {
          "output_type": "execute_result",
          "data": {
            "text/plain": [
              "True"
            ]
          },
          "metadata": {},
          "execution_count": 39
        }
      ]
    },
    {
      "cell_type": "code",
      "source": [
        "#Binary search using recurssive\n",
        "def bs(a,l,r,key):\n",
        "  if l>r:\n",
        "    return False\n",
        "  mid=l+(r-l)//2\n",
        "  if a[mid]==key:\n",
        "      return True\n",
        "  elif a[mid]>key:\n",
        "      return bs(a,l,mid-1,key)\n",
        "  elif a[mid]<key:\n",
        "      return bs(a,mid+1,r,key)\n",
        "\n",
        "a=[0,20,90,60,40,89,56]\n",
        "a.sort()\n",
        "key=int(input(\"Enter the key element to be serached:\"))\n",
        "bs(a,0,len(a)-1,key)\n",
        "\n"
      ],
      "metadata": {
        "id": "dbNOwl3WACi5",
        "colab": {
          "base_uri": "https://localhost:8080/"
        },
        "outputId": "d56f24a6-9d5f-4c8a-ace9-628764b90148"
      },
      "execution_count": null,
      "outputs": [
        {
          "name": "stdout",
          "output_type": "stream",
          "text": [
            "Enter the key element to be serached:21\n"
          ]
        },
        {
          "output_type": "execute_result",
          "data": {
            "text/plain": [
              "False"
            ]
          },
          "metadata": {},
          "execution_count": 9
        }
      ]
    },
    {
      "cell_type": "code",
      "source": [
        "#Bubble sort\n",
        "def bu_s(ai):\n",
        "  n=len(ai)\n",
        "  for i in range(0,n):\n",
        "    for j in range(0,n-i-1):\n",
        "      if ai[j]>ai[j+1]:\n",
        "        ai[j],ai[j+1]=ai[j+1],ai[j]   # swap code\n",
        "        return ai\n",
        "\n",
        "\n",
        "ai=[10,20,60,23,98]\n",
        "a=bu_s(ai)\n",
        "print(a)\n"
      ],
      "metadata": {
        "id": "_AG2BacnACnm",
        "colab": {
          "base_uri": "https://localhost:8080/"
        },
        "outputId": "a97993e7-73d2-493e-9cd6-bc54609ef904"
      },
      "execution_count": null,
      "outputs": [
        {
          "output_type": "stream",
          "name": "stdout",
          "text": [
            "[10, 20, 23, 60, 98]\n"
          ]
        }
      ]
    },
    {
      "cell_type": "code",
      "source": [
        " #O(2**n) EXPONENTIAL\n",
        "# fibonaci by recurssion\n",
        "def fibonaci(n):\n",
        "  if n<=1:\n",
        "    return n\n",
        "  else:\n",
        "    return fibonaci(n-1)+fibonaci(n-2)\n",
        "n=int(input(\"enter the number:\"))\n",
        "print(fibonaci(n))"
      ],
      "metadata": {
        "id": "EY3ebxAR0oIp",
        "colab": {
          "base_uri": "https://localhost:8080/"
        },
        "outputId": "2a1ecc26-db67-4159-fc0d-e0ab662c4d32"
      },
      "execution_count": null,
      "outputs": [
        {
          "output_type": "stream",
          "name": "stdout",
          "text": [
            "enter the number:6\n",
            "8\n"
          ]
        }
      ]
    },
    {
      "cell_type": "code",
      "source": [
        "#select on sort\n",
        "def selection(arr):\n",
        "  n=len(arr)\n",
        "  for i in range(n):\n",
        "    min_index=i\n",
        "    for j in range(i+1,n):\n",
        "      if arr[min_index]>arr[j]:\n",
        "        min_index=j\n",
        "        arr[i],arr[min_index]=arr[min_index],arr[i]\n",
        "  return arr\n",
        "\n",
        "arr=[10,20,60,23,98]\n",
        "a=selection(arr)\n",
        "print(a)"
      ],
      "metadata": {
        "id": "kKnQpmeh0oOB",
        "colab": {
          "base_uri": "https://localhost:8080/"
        },
        "outputId": "9a7c11be-ff6d-45d9-c683-57594f2fd397"
      },
      "execution_count": null,
      "outputs": [
        {
          "output_type": "stream",
          "name": "stdout",
          "text": [
            "[10, 20, 23, 60, 98]\n"
          ]
        }
      ]
    },
    {
      "cell_type": "code",
      "source": [
        "#Insertion sort\n",
        "def insertionsort(arr):\n",
        "  for i in range(1,len(arr)):\n",
        "      #move elements of arr[0..i-1],that are greater than key,\n",
        "    key=arr[i]\n",
        "    j=i-1\n",
        "    while j>=0 and key<arr[j]:\n",
        "      arr[j+1]=arr[j]\n",
        "      j=j-1\n",
        "    arr[j+1]=key\n",
        "  return arr\n",
        "\n",
        "arr=[10,20,60,23,98]\n",
        "a=insertionsort(arr)\n",
        "print(a)"
      ],
      "metadata": {
        "id": "n98PnNHO0oSx",
        "colab": {
          "base_uri": "https://localhost:8080/"
        },
        "outputId": "ab0b382c-f640-4a26-8109-580b81a13563"
      },
      "execution_count": null,
      "outputs": [
        {
          "output_type": "stream",
          "name": "stdout",
          "text": [
            "[10, 20, 23, 60, 98]\n"
          ]
        }
      ]
    },
    {
      "cell_type": "code",
      "source": [
        "#Merge sort\n",
        "def merge(arr):\n",
        "  if len(arr)>1:\n",
        "    #create sub_array2 <--- A[start..mid] and sub_array2\n",
        "    mid=len(arr)//2\n",
        "    sub_array1=arr[:mid]\n",
        "    sub_array2=arr[mid:]\n",
        "    # Sort the two halves\n",
        "    merge(sub_array1)\n",
        "    merge(sub_array2)\n",
        "\n",
        "    i=j=k=0\n",
        "    #until we reach the end of either start or end ,pick larger elements start and end and place them in the correct position\n",
        "    while i<len(sub_array1) and j<len(sub_array2):\n",
        "      if sub_array1[i]<sub_array2[j]:\n",
        "        arr[k]=sub_array1[i]\n",
        "        i=i+1\n",
        "      else:\n",
        "        arr[k]=sub_array2[j]\n",
        "        j=j+1\n",
        "      k+=1\n",
        "    while i< len(sub_array1):\n",
        "      arr[k]=sub_array1[i]\n",
        "      i=i+1\n",
        "      k=k+1\n",
        "    while j< len(sub_array2):\n",
        "      arr[k]=sub_array2[j]\n",
        "      j=j+1\n",
        "      k=k+1\n",
        "arr=[10,9,2,4,6,13]\n",
        "merge(arr)\n",
        "print(arr)"
      ],
      "metadata": {
        "id": "J5vcdukG0oXn",
        "colab": {
          "base_uri": "https://localhost:8080/"
        },
        "outputId": "a1be69cd-e5de-4e23-b562-260920415b6c"
      },
      "execution_count": null,
      "outputs": [
        {
          "output_type": "stream",
          "name": "stdout",
          "text": [
            "[2, 4, 6, 9, 10, 13]\n"
          ]
        }
      ]
    },
    {
      "cell_type": "code",
      "source": [
        " #Quick sort\n",
        " def quick(arr):\n",
        "  if len(arr)<=1:\n",
        "    return arr\n",
        "  pivot = arr[len(arr)//2]\n",
        "  left=[x for x in arr if x < pivot]\n",
        "  middle=[x for x in arr if x == pivot]\n",
        "  right=[x for x in arr if x > pivot]\n",
        "  return quick(left) + middle + quick(right)\n",
        "\n",
        "#driver code to test above\n",
        "arr=[12,11,13,5,6,7]\n",
        "print(\"given array is\", (arr))\n",
        "sorted_arr=quick(arr)\n",
        "print(\"sorted array is\",sorted_arr)"
      ],
      "metadata": {
        "id": "GiHd7i_p0oec",
        "colab": {
          "base_uri": "https://localhost:8080/"
        },
        "outputId": "0fed839b-1c7f-40d9-ccc7-2058bd3e7f26"
      },
      "execution_count": null,
      "outputs": [
        {
          "output_type": "stream",
          "name": "stdout",
          "text": [
            "given array is [12, 11, 13, 5, 6, 7]\n",
            "sorted array is [5, 6, 7, 11, 12, 13]\n"
          ]
        }
      ]
    }
  ]
}