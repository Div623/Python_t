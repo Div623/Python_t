{
  "nbformat": 4,
  "nbformat_minor": 0,
  "metadata": {
    "colab": {
      "provenance": [],
      "authorship_tag": "ABX9TyPkAZ1xaExsjd4EYKpKdsHU",
      "include_colab_link": true
    },
    "kernelspec": {
      "name": "python3",
      "display_name": "Python 3"
    },
    "language_info": {
      "name": "python"
    }
  },
  "cells": [
    {
      "cell_type": "markdown",
      "metadata": {
        "id": "view-in-github",
        "colab_type": "text"
      },
      "source": [
        "<a href=\"https://colab.research.google.com/github/Div623/Python_t/blob/main/Python_str_day5.ipynb\" target=\"_parent\"><img src=\"https://colab.research.google.com/assets/colab-badge.svg\" alt=\"Open In Colab\"/></a>"
      ]
    },
    {
      "cell_type": "code",
      "execution_count": null,
      "metadata": {
        "colab": {
          "base_uri": "https://localhost:8080/"
        },
        "id": "aDYvLu83x7F-",
        "outputId": "a23f13f5-40aa-4b3d-9447-1a1561afb236"
      },
      "outputs": [
        {
          "output_type": "stream",
          "name": "stdout",
          "text": [
            "Enter a string:  hello world\n",
            "Length of a string 13\n",
            "Uppercase:   HELLO WORLD\n",
            "Lowercase:   hello world\n",
            "Is given input_string in uppercase False\n",
            "Is given input_string in lowercase True\n",
            "Capitalize:   hello world\n",
            "Title( capitalize every word):   Hello World\n"
          ]
        }
      ],
      "source": [
        "input_string=input(\"Enter a string:\")    #  hello world (2 spaces at first)\n",
        "\n",
        "#string length\n",
        "print(\"Length of a string\",len(input_string))\n",
        "\n",
        "#convert to uppercase\n",
        "print(\"Uppercase:\",input_string.upper())\n",
        "\n",
        "#convert to lowercase\n",
        "print(\"Lowercase:\",input_string.lower())\n",
        "\n",
        "#isupper()\n",
        "print(\"Is given input_string in uppercase\",input_string.isupper())\n",
        "\n",
        "#islower()\n",
        "print(\"Is given input_string in lowercase\",input_string.islower())\n",
        "\n",
        "#Capitalize()\n",
        "print(\"Capitalize:\",input_string.capitalize())   # converts first letter of a string to caplital ;if  space then kept as it is\n",
        "\n",
        "#title    # converts first letter of every to capital\n",
        "print(\"Title( capitalize every word):\",input_string.title())\n"
      ]
    },
    {
      "cell_type": "code",
      "source": [
        "#countoccurances of  subatring\n",
        "substring=input(\"Enter a substring:\")\n",
        "print(\"Count of substring:\",input_string.count(substring))\n",
        "\n",
        "#check if the string starts with a specific substring\n",
        "prefix=input(\"Enter a prefix:\")\n",
        "print(\"starts with\",prefix,\":\",(input_string.startswith(prefix)))\n",
        "\n",
        "##check if the string ends with a specific substring\n",
        "suffix=input(\"Enter a suffix:\")\n",
        "print(\"ends with\",prefix,\":\",input_string.endswith(suffix))\n",
        "\n",
        "#replace a substing with a another substring\n",
        "old_subs=input(\"Enter a old substring which u want to be rplaced:\")\n",
        "new_subs=input(\"Enter a new substring:\")\n",
        "print(\"Replaced:\",input_string.replace(old_subs,new_subs))"
      ],
      "metadata": {
        "colab": {
          "base_uri": "https://localhost:8080/"
        },
        "id": "TsSqrHSXzpSk",
        "outputId": "a023cf9c-1405-4e6e-8a61-8b9d082f32f5"
      },
      "execution_count": null,
      "outputs": [
        {
          "output_type": "stream",
          "name": "stdout",
          "text": [
            "Enter a substring:ll\n",
            "Count of substring: 1\n",
            "Enter a prefix:he\n",
            "starts with he : False\n",
            "Enter a suffix:ld\n",
            "ends with he : True\n",
            "Enter a old substring which u want to be rplaced:world\n",
            "Enter a new substring:India\n",
            "Replaced:   hello India\n"
          ]
        }
      ]
    },
    {
      "cell_type": "code",
      "source": [
        "#split the string into a list of substings\n",
        "\n",
        "'''print(\"Split:\",input_string.split())   or '''\n",
        "delimiter=input(\"Enter a delimiter:\")  # delimeter give spaces (i.e based on space split)\n",
        "print(\"Split:\",input_string.split(delimiter))   #\n",
        "\n",
        "#join a list of substings nto a single string\n",
        "substings=input(\"Enter a list of substings:\").split()\n",
        "join_delimeter=input(\"Enter a  delimeter to join substrings:\")\n",
        "print(\"Joined string:\",join_delimeter.join(substings))\n",
        "\n",
        "#strip() removes any white spaces only from the begining or the end\n",
        "print(input_string.strip())\n",
        "print(input_string.lstrip())\n",
        "print(input_string.rstrip())\n",
        "print((input_string.rfind(\"l\")))  #last occured\n",
        "print((input_string.find(\"l\")))  #total"
      ],
      "metadata": {
        "colab": {
          "base_uri": "https://localhost:8080/"
        },
        "id": "uzX9XGDC1AM4",
        "outputId": "4a1237b5-f746-4aeb-d786-3c1d679c9597"
      },
      "execution_count": null,
      "outputs": [
        {
          "output_type": "stream",
          "name": "stdout",
          "text": [
            "Enter a delimiter: \n",
            "Split: ['', '', 'hello', 'world']\n",
            "Enter a list of substings:i like icecrem\n",
            "Enter a  delimeter to join substrings:0\n",
            "Joined string: i0like0icecrem\n",
            "hello world\n",
            "hello world\n",
            "  hello world\n",
            "11\n",
            "4\n"
          ]
        }
      ]
    },
    {
      "cell_type": "code",
      "source": [
        "#reverse a string\n",
        "print(\"Reverse:\",input_string[::-1])"
      ],
      "metadata": {
        "colab": {
          "base_uri": "https://localhost:8080/"
        },
        "id": "XPuTm8IEy6N-",
        "outputId": "6c67726d-5ab4-4baa-fcf8-ad86e4ecb310"
      },
      "execution_count": null,
      "outputs": [
        {
          "output_type": "stream",
          "name": "stdout",
          "text": [
            "Reverse: dlrow olleh  \n"
          ]
        }
      ]
    },
    {
      "cell_type": "code",
      "source": [
        "age=21\n",
        "name=input()\n",
        "print(f\"My name is {name}, I am {age}\") #f"
      ],
      "metadata": {
        "colab": {
          "base_uri": "https://localhost:8080/"
        },
        "id": "PWEdDRu5y6T6",
        "outputId": "22f80efa-0490-4cbd-9376-c683bd584db2"
      },
      "execution_count": null,
      "outputs": [
        {
          "output_type": "stream",
          "name": "stdout",
          "text": [
            "Divya\n",
            "My name is Divya, I am 21\n"
          ]
        }
      ]
    },
    {
      "cell_type": "code",
      "source": [
        "#reverse a string\n",
        "def str_revse(str):\n",
        "  rstr=\" \"\n",
        "  i=len(str)\n",
        "  while i>0:\n",
        "    rstr=rstr+str[i-1]\n",
        "    i=i-1\n",
        "  return rstr\n",
        "\n",
        "string_input=input(\"Enter a string:\")\n",
        "reversed_str = str_revse(string_input)   # function call\n",
        "print(\"Reversed string:\",reversed_str)\n"
      ],
      "metadata": {
        "colab": {
          "base_uri": "https://localhost:8080/"
        },
        "id": "tuvAjlBNy6X4",
        "outputId": "75e6dfa1-0d77-45f7-946d-53c8596d914b"
      },
      "execution_count": null,
      "outputs": [
        {
          "output_type": "stream",
          "name": "stdout",
          "text": [
            "Enter a string:hello world\n",
            "Reversed string:  dlrow olleh\n"
          ]
        }
      ]
    }
  ]
}